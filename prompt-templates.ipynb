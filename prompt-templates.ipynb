{
 "cells": [
  {
   "cell_type": "code",
   "execution_count": 1,
   "metadata": {},
   "outputs": [
    {
     "data": {
      "text/plain": [
       "StringPromptValue(text='Escreva um poema sobre abacate')"
      ]
     },
     "execution_count": 1,
     "metadata": {},
     "output_type": "execute_result"
    }
   ],
   "source": [
    "# String PromptTemplate\n",
    "\n",
    "from langchain_core.prompts import PromptTemplate\n",
    "\n",
    "prompt_template = PromptTemplate.from_template(\n",
    "    \"Escreva um poema sobre {topic}\"\n",
    ")\n",
    "\n",
    "prompt_template.invoke({\"topic\": \"abacate\"})"
   ]
  },
  {
   "cell_type": "code",
   "execution_count": 2,
   "metadata": {},
   "outputs": [
    {
     "data": {
      "text/plain": [
       "PromptTemplate(input_variables=['topic'], input_types={}, partial_variables={}, template='Escreva um poema sobre {topic}')"
      ]
     },
     "execution_count": 2,
     "metadata": {},
     "output_type": "execute_result"
    }
   ],
   "source": [
    "prompt_template"
   ]
  },
  {
   "cell_type": "code",
   "execution_count": 8,
   "metadata": {},
   "outputs": [
    {
     "data": {
      "text/plain": [
       "StringPromptValue(text='Você é um assistente respondendo perguntas gerais\\nExplique para mim brevemente o conceito de IA, de forma clara e objetiva. Escreva em no máximo 1 parágrafo')"
      ]
     },
     "execution_count": 8,
     "metadata": {},
     "output_type": "execute_result"
    }
   ],
   "source": [
    "# ChatPromptTemplate\n",
    "\n",
    "from langchain_core.prompts import ChatPromptTemplate, PromptTemplate\n",
    "\n",
    "prompt_template = ChatPromptTemplate.from_messages([\n",
    "    (\"system\", \"Você é um assistente respondendo perguntas gerais\"),\n",
    "    (\"user\", \"explique-me em 1 paragrafo o conceito de {topic}\")\n",
    "])\n",
    "\n",
    "# Certifique-se de incluir o tópico aqui\n",
    "formatted_prompt = prompt_template.invoke({\"topic\": \"IA\"})\n",
    "\n",
    "system_prompt = \"Você é um assistente respondendo perguntas gerais\"\n",
    "user_prompt = \"Explique para mim brevemente o conceito de {topic}, de forma clara e objetiva. Escreva em no máximo 1 parágrafo\"\n",
    "\n",
    "# Corrigindo a criação do PromptTemplate\n",
    "prompt_template = PromptTemplate.from_template(f\"{system_prompt}\\n{user_prompt}\")\n",
    "\n",
    "\n",
    "prompt_template.invoke({\"topic\": \"IA\"})"
   ]
  },
  {
   "cell_type": "code",
   "execution_count": 12,
   "metadata": {},
   "outputs": [
    {
     "data": {
      "text/plain": [
       "StringPromptValue(text='Você é um assistente respondendo perguntas gerais\\nExplique o que é IA, em no maximo 1 parágrafo')"
      ]
     },
     "execution_count": 12,
     "metadata": {},
     "output_type": "execute_result"
    }
   ],
   "source": [
    "user_prompt = \"Explique o que é {topic}, em no maximo {tamanho}\"\n",
    "prompt_template = PromptTemplate.from_template(f\"{system_prompt}\\n{user_prompt}\")\n",
    "prompt_template.invoke({\"topic\": \"IA\", \"tamanho\": \"1 parágrafo\"})"
   ]
  }
 ],
 "metadata": {
  "kernelspec": {
   "display_name": "base",
   "language": "python",
   "name": "python3"
  },
  "language_info": {
   "codemirror_mode": {
    "name": "ipython",
    "version": 3
   },
   "file_extension": ".py",
   "mimetype": "text/x-python",
   "name": "python",
   "nbconvert_exporter": "python",
   "pygments_lexer": "ipython3",
   "version": "3.12.7"
  }
 },
 "nbformat": 4,
 "nbformat_minor": 2
}
