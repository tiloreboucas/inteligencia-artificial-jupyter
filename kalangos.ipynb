{
 "cells": [
  {
   "cell_type": "code",
   "execution_count": 1,
   "metadata": {},
   "outputs": [
    {
     "data": {
      "application/vnd.jupyter.widget-view+json": {
       "model_id": "fed3f017c3704623a2f3f17ebdb49560",
       "version_major": 2,
       "version_minor": 0
      },
      "text/plain": [
       "Loading checkpoint shards:   0%|          | 0/2 [00:00<?, ?it/s]"
      ]
     },
     "metadata": {},
     "output_type": "display_data"
    },
    {
     "name": "stderr",
     "output_type": "stream",
     "text": [
      "/tmp/ipykernel_28493/4081515703.py:32: LangChainDeprecationWarning: The class `HuggingFacePipeline` was deprecated in LangChain 0.0.37 and will be removed in 1.0. An updated version of the class exists in the :class:`~langchain-huggingface package and should be used instead. To use it run `pip install -U :class:`~langchain-huggingface` and import as `from :class:`~langchain_huggingface import HuggingFacePipeline``.\n",
      "  llm = HuggingFacePipeline(pipeline=pipe)\n"
     ]
    }
   ],
   "source": [
    "from transformers import pipeline, AutoTokenizer, AutoModelForCausalLM, BitsAndBytesConfig\n",
    "from langchain.llms import HuggingFacePipeline\n",
    "import torch\n",
    "\n",
    "# Configuração do modelo Phi-3-1.3B com quantização 4-bit\n",
    "model_id = \"microsoft/Phi-3-mini-4k-instruct\"  # Substitua pelo ID exato do modelo Phi-3-1.3B no Hugging Face Hub\n",
    "\n",
    "quantization_config = BitsAndBytesConfig(\n",
    "    load_in_4bit=True,\n",
    "    bnb_4bit_use_double_quant=True,\n",
    "    bnb_4bit_quant_type=\"nf4\",\n",
    "    bnb_4bit_compute_dtype=torch.bfloat16\n",
    ")\n",
    "\n",
    "# Carregar o modelo e tokenizer\n",
    "model = AutoModelForCausalLM.from_pretrained(model_id, quantization_config=quantization_config, device_map=\"auto\")\n",
    "tokenizer = AutoTokenizer.from_pretrained(model_id)\n",
    "\n",
    "# Criar pipeline para geração de texto\n",
    "pipe = pipeline(\n",
    "    model=model,\n",
    "    tokenizer=tokenizer,\n",
    "    task=\"text-generation\",\n",
    "    temperature=0.1,\n",
    "    max_new_tokens=500,\n",
    "    do_sample=True,\n",
    "    repetition_penalty=1.1,\n",
    "    return_full_text=False,\n",
    ")\n",
    "\n",
    "# Integração com LangChain\n",
    "llm = HuggingFacePipeline(pipeline=pipe)"
   ]
  },
  {
   "cell_type": "code",
   "execution_count": 2,
   "metadata": {},
   "outputs": [],
   "source": [
    "# PHI 3\n",
    "template_rag = \"\"\"\n",
    "<|system|>\n",
    "Você é um assistente virtual prestativo e está respondendo perguntas gerais. sempre em portugues do brasil, respondendo de forma clara e objetiva<|end|>\n",
    "<|user|>\n",
    "Pergunta: {pergunta}\n",
    "---\n",
    "Contexto: {contexto}\n",
    "<|end|>\n",
    "<|assistant|>\n",
    "\"\"\""
   ]
  },
  {
   "cell_type": "code",
   "execution_count": 3,
   "metadata": {},
   "outputs": [
    {
     "name": "stderr",
     "output_type": "stream",
     "text": [
      "USER_AGENT environment variable not set, consider setting it to identify your requests.\n"
     ]
    }
   ],
   "source": [
    "import bs4\n",
    "from langchain_community.document_loaders import WebBaseLoader\n",
    "from langchain_huggingface import HuggingFaceEmbeddings\n",
    "from langchain_chroma import Chroma"
   ]
  },
  {
   "cell_type": "code",
   "execution_count": 4,
   "metadata": {},
   "outputs": [],
   "source": [
    "loader = WebBaseLoader(web_paths = (\"https://www.kalangosmotoclube.com.br/quem-somos.html\",),)\n",
    "docs = loader.load()"
   ]
  },
  {
   "cell_type": "code",
   "execution_count": 5,
   "metadata": {},
   "outputs": [],
   "source": [
    "from langchain_text_splitters import RecursiveCharacterTextSplitter\n",
    "\n",
    "text_splitter = RecursiveCharacterTextSplitter(chunk_size = 1000, chunk_overlap = 200, add_start_index = True)\n",
    "splits = text_splitter.split_documents(docs)"
   ]
  },
  {
   "cell_type": "code",
   "execution_count": 6,
   "metadata": {},
   "outputs": [
    {
     "name": "stderr",
     "output_type": "stream",
     "text": [
      "/tmp/ipykernel_28493/2278812390.py:2: LangChainDeprecationWarning: The class `HuggingFaceEmbeddings` was deprecated in LangChain 0.2.2 and will be removed in 1.0. An updated version of the class exists in the :class:`~langchain-huggingface package and should be used instead. To use it run `pip install -U :class:`~langchain-huggingface` and import as `from :class:`~langchain_huggingface import HuggingFaceEmbeddings``.\n",
      "  hf_embeddings = HuggingFaceEmbeddings(model_name = \"sentence-transformers/all-mpnet-base-v2\")\n"
     ]
    }
   ],
   "source": [
    "from langchain.embeddings import HuggingFaceEmbeddings\n",
    "hf_embeddings = HuggingFaceEmbeddings(model_name = \"sentence-transformers/all-mpnet-base-v2\")"
   ]
  },
  {
   "cell_type": "code",
   "execution_count": 7,
   "metadata": {},
   "outputs": [],
   "source": [
    "from langchain_chroma import Chroma\n",
    "#vectorstore = Chroma.from_documents(documents=splits, embedding=hf_embeddings)\n",
    "# Crie o vectorstore com persistência local\n",
    "vectorstore = Chroma.from_documents(\n",
    "    documents=splits, \n",
    "    embedding=hf_embeddings,\n",
    "    persist_directory=\"./data/chroma\"\n",
    ")\n",
    "\n",
    "# caso fossemos usar os embeddings da Open AI, basta mudar o método, passando direto conforme abaixo\n",
    "#vectorstore = Chroma.from_documents(documents=splits, embedding=OpenAIEmbeddings())"
   ]
  },
  {
   "cell_type": "code",
   "execution_count": 8,
   "metadata": {},
   "outputs": [],
   "source": [
    "retriever = vectorstore.as_retriever(search_type = \"similarity\", search_kwargs={\"k\": 6})"
   ]
  },
  {
   "cell_type": "code",
   "execution_count": 9,
   "metadata": {},
   "outputs": [
    {
     "data": {
      "text/plain": [
       "PromptTemplate(input_variables=['contexto', 'pergunta'], input_types={}, partial_variables={}, template='\\n<|system|>\\nVocê é um assistente virtual prestativo e está respondendo perguntas gerais. sempre em portugues do brasil, respondendo de forma clara e objetiva<|end|>\\n<|user|>\\nPergunta: {pergunta}\\n---\\nContexto: {contexto}\\n<|end|>\\n<|assistant|>\\n')"
      ]
     },
     "execution_count": 9,
     "metadata": {},
     "output_type": "execute_result"
    }
   ],
   "source": [
    "from langchain.prompts import PromptTemplate\n",
    "\n",
    "prompt_rag = PromptTemplate(\n",
    "    input_variables=[\"contexto\", \"pergunta\"],\n",
    "    template=template_rag,\n",
    ")\n",
    "prompt_rag"
   ]
  },
  {
   "cell_type": "code",
   "execution_count": 10,
   "metadata": {},
   "outputs": [],
   "source": [
    "def format_docs(docs):\n",
    "  return \"\\n\\n\".join(doc.page_content for doc in docs)"
   ]
  },
  {
   "cell_type": "code",
   "execution_count": 11,
   "metadata": {},
   "outputs": [],
   "source": [
    "from langchain_core.runnables import RunnablePassthrough\n",
    "from langchain_core.output_parsers import StrOutputParser\n",
    "\n",
    "chain_rag = ({\"contexto\": retriever | format_docs, \"pergunta\": RunnablePassthrough()}\n",
    "             | prompt_rag\n",
    "             | llm\n",
    "             | StrOutputParser())"
   ]
  },
  {
   "cell_type": "code",
   "execution_count": 12,
   "metadata": {},
   "outputs": [
    {
     "data": {
      "text/plain": [
       "' O Kalangos Motorcycle Club (KMC) teve sua data oficial de fundação documentada pela primeira vez na edição número 146 do jornal \"Duas Rodas\", onde se destacou como o segundo melhor motorclube brasileiro após a vitória nas competições organizadas pelas Associações de Corredores Amadores - ACAs. Apesar disso não estar explicitamente declarado como a data exata de fundação, podemos inferir que deve ter sido estabelecido antes dessa conquista notável mencionada. As informações fornecidas nos artigos referentes aos direitos e deveres dos membros indicam práticas sólidas dentro da entidade, enfatizando valores como responsabilidade, participação democrática e contribuição positiva à sociedade local. Além disso, o KMC possui reconhecimento nacional devido à presença constante em diversas revistas especializadas sobre motociclismo, refletindo seu envolvimento contínuo e crescente tanto em aspectos recreativos quanto profissionais.'"
      ]
     },
     "execution_count": 12,
     "metadata": {},
     "output_type": "execute_result"
    }
   ],
   "source": [
    "chain_rag.invoke(\"Quando foi fundado o Kalangos Motoclube?\")"
   ]
  },
  {
   "cell_type": "code",
   "execution_count": 15,
   "metadata": {},
   "outputs": [
    {
     "data": {
      "text/plain": [
       "' As funções descritas nos artigos referenciados são essenciais para manter uma estrutura organizacional funcional dentro de instituições como clubes esportivos ou sociedades similares. Cada cargo tem seu papel específico na gestão geral dos negócios diários e políticos do grupo. Abaixo segue uma explicação detalhada dessas funções conforme elas foram delineadas nas letras correspondentes às respectivas normativas:\\n\\n**Função do Diretor de Disciplina (Artigo 25):**  \\nEste indivíduo é encarregado de garantir a integridade moral e disciplinar entre os membros do clube. Sua principal tarefa é notificar tanto os conselhos quanto o presidente sobre quaisquer falhas éticas ou comportamentos inadequados por parte dos sócios. Após receber informações sobre tal situação, este oficial fará valer seus poderes discursivos durante sessões conjuntas - conhecidas como assembleias - onde poderá exercer audiências justas e imparciais, permitindo assim que ambos lados tenham voz em questões relacionadas à conduta individual. Além disso, colaborará estreitamente com outros departamentos relevantes para tomar decisões adequadas e aplicáveis a casos individuais.\\n\\n**Função do Diretor de Contabilidade (Artigo 26):**   \\nComo representante financeiro, esta pessoa responde pelo controle e administração dos recursos monetários do clube. Ela supervisiona todo tipo de transação econômica, desde orçamentaria até operações comerciais mais complexas, incluindo a criação de demonstrações financeiras precisas e transparentes. Em relação à finança, ela também pode estar ligada à operação de bancos oficiais, assumindo a autorização necessária para executar pagamentos e recibos fiscais. É importante ressaltar que neste contexto não há menção explícita de \"desligamento\", mas sim apenas a exigência de retornar algum item identificável chamado \"Escudo\" ao término do período'"
      ]
     },
     "execution_count": 15,
     "metadata": {},
     "output_type": "execute_result"
    }
   ],
   "source": [
    "chain_rag.invoke(\"o que Caberá ao Diretor de Disciplina?\")"
   ]
  },
  {
   "cell_type": "code",
   "execution_count": 14,
   "metadata": {},
   "outputs": [
    {
     "data": {
      "text/plain": [
       "[Document(metadata={'source': 'https://www.kalangosmotoclube.com.br/quem-somos.html', 'title': 'Kalangos Moto Clube | Nossa história', 'description': 'Conheça a história do Kalangos Moto Clube.', 'language': 'pt-br'}, page_content=\"\\n\\n\\n\\n\\n\\n\\n\\nKalangos Moto Clube | Nossa história\\n\\n\\n\\n\\n\\n\\n\\n\\n\\n\\n\\n\\n\\n\\nBarra de Navegação\\nMENU\\n\\n\\n\\n\\n\\nHome\\n\\nQuem Somos\\n\\n\\nIntegrantes\\n\\nMídia\\nContato\\n\\n\\n\\n\\n\\n\\n\\nO Moto Clube\\nConheça a nossa história\\n\\n\\n\\n          O Kalango’s Moto Clube e uma entidade sem fins lucrativos, devidamente\\n          registrado no 2º Cartório de registros de Titulos, que visa a promoção\\n          da fraternidade e a cooperação entre os motociclistas, defendendo no\\n          âmbito de suas atribuições a boa imagem do motociclista, participando\\n          sempre de atividades no meio motociclistico. Fundado em 25 de janeiro\\n          de 1995, na Zona Sul de São Paulo, trazendo como principal proposta a\\n          união dentro do motociclismo e em todo segmento social que vise a\\n          promoção da imagem do ser humano. Por que Kalango’s simplesmente por\\n          que assim como os répteis, possuimos caracteristicas primitivas, como\\n          agilidade para se locomover a eventos, bares e viagens, atuamos dia e\\n          noite, de acordo com a programação, não tem hora para dormir e de\\n          fácil adptação, lugar e clima. A nossa principal preocupação é mostrar\\n          que o brasão é peso de responsabilidade e sinônimo de compromisso\\n          social, por isto qualquer componente para conduzir nossa bandeira e\\n          ostentar nosso brasão tem que passar por um período de análise e\\n          adaptação no grupo.\\n        \\n\\n\\n\\n          Nosso maior troféu é fazer amizade, mas também de promover a imagem de\\n          uma região muito prejudicada no cenário da mídia convencional que só\\n          mostra o lado negativo da comunidade da zona sul “na maioria das vezes\\n          por usarmos motocicletas, somos confundidos com pessoas de conduta\\n          duvidosa. Kalango’s Moto Clube é sinônimo de companheirismo, paz e\\n          paixão por motocicletas, foram esse itens que somados deram origem ao\\n          Moto Clube e com ele a filosofia de um mundo de liberdade, união e\\n          prazer, além de troféus, e várias publicações em Jornais e Revistas,\\n          entre elas Duas Rodas, Motociclismo, Moto Adventure, Moto&Técnica\\n          etc, trazemos uma longa experiência em estradas Brasileiras,\\n          aumentando cada vez mais a nossa amizade e companheirismo com os\\n          irmãos motociclistas. Fomos eleitos em 2º lugar como Moto Clube mais\\n          admirado do Brasil, através do site www.motoroad.com.br, pelo meio\\n          motociclistico Nacional, o qual fomos homenageados em Maio/2007, no\\n          10º International Moto Road, em Campo Grande/Mato Grosso do Sul.\\n        \\n\\n\\n\\n\\nSignificado do Brasão\\nConheça a nossa história\\n\\n\\n\\n\\n\\n\\n            O Brasão do Kalango’s é um escudo clássico português, perfillado de\\n            preto, semi partido e cortado, formando cinco campos. No primeiro\\n            campo o nome Kalango’s a e a localidade em (vermelho), cor que\\n            simboliza, força de vontade, conquista, liderança e senso de\\n            auto-estima. No segundo campo a cor branca de fundo no brasão que\\n            simboliza a pureza, sinceridade e verdade, repele energias negativas\\n            e eleva as vibrações. No terceiro campo dois ramos os quais\\n            simbolizam a vitória. No quarto campo em amarelo um amuleto de\\n            sorte, que na verdade é um objeto no qual devemos acreditar que pode\\n            trazer proteção. Muitas pessoas costumam ter seu amuleto da sorte\\n            como algo que garante sucesso, ou imune a determinadas situações,\\n            com relação a cor amarela simboliza novas esperanças. A Motocicleta\\n            na cor vermelha, veículo fundamental para nossa existência, é o\\n            Reptil. Por que Kalango’s ? por que assim como os reptéis possuímos\\n            características primitivas tais como agilidade para se locomover\\n            para eventos, bares, viagens, Estilo de vida atuamos dia e noite\\n            conforme programação de fácil adaptação, lugar e clima.\\n          \\n\\n\\n\\n\\nEstatuto Kalangos Moto Clube\\n\\n        Registrado no 2º Cartório de Registros, Títulos, Documentos e Civil de\\n        Pessoas Jurídicas da Capital sob o Nº 87.651 e Prenotado Nº 88.850.\\n      \\n\\n\\n\\n\\n\\n01\\n\\xa0\\xa0Do Moto Clube Kalangos-SP e seus objetivos\\n\\n\\n\\n\\nArtigo 1\\n                O Moto Clube Kalango’s – SP, fundado em 25 de Janeiro de 1995 é\\n                uma sociedade civil, sem fins lucrativos, sendo sua sede\\n                localizada à Rua Joaquim Nunes Teixeira, 307, Vila Belezas, no\\n                município do São Paulo, estado de São Paulo, e que regerá por\\n                este ESTATUTO, e pelas normas legais, podendo abrir Filiais e\\n                outras Cidades.\\n              \\n\\nArtigo 2 \\nConstituem os objetivos do Moto Clube:\\n\\n\\n                  Realizar e promover passeios, encontros, gincanas, reuniões e\\n                  eventos que estimulem o uso da motocicleta e a divulgação do\\n                  motociclismo.\\n                \\n\\n                  Estimular e orientar quanto ao uso correto da motocicleta\\n                  observando os aspectos de segurança e exigências da legislação\\n                  vigente.\\n                \\n\\n                  Promover o intercâmbio com outras entidades afins e o convívio\\n                  entre seus associados.\\n                \\nZelar pela defesa dos direitos dos associados.\\n\\n                  Promover e estimular a prática de atividades que se\\n                  identifiquem com o motociclismo.\\n                \\n\\n                  Manter constante divulgação de suas atividades como medida de\\n                  comunicação de seus associados e informação de seus objetivos\\n                  e finalidades.\\n                \\nPromover assistência a instituições de caridade.\\nPrestar serviços de utilidade à comunidade.\\n\\n\\n\\n\\n\\n\\n02\\n\\xa0\\xa0Do Escudo do Moto Clube\\n\\n\\n\\nArtigo 3 \\nOs símbolos do Moto Clube São:\\n\\n\\n                  Escudo: Fundo branco com o Kalango em verde e as inscrições\\n                  Kalango’s em vermelho e as inscrições Moto Clube – São Paulo\\n                  em preto.\\n                \\nMoto: Kawasaki ZX9 vermelha.\\nCores oficiais: Verde, vermelho e preto.\\nCamisetas: Cor livre.\\n\\n\\n\\n\\n\\n\\n03\\n\\xa0\\xa0Dos Associados do Moto Clube\\n\\n\\n\\nArtigo 4 \\nSão considerados associados do Moto Clube:\\n\\nMembros fundadores: Os que assinam a presente fundação.\\n\\n                  Membros efetivos: Os que se filiaram ao Moto Clube após a\\n                  presente fundação.\\n                \\n\\n                  Dependentes: As esposas e parentes dos membros que participam\\n                  das atividades do Moto Clube e por consenso tenham o direito\\n                  ao escudo.\\n                \\n\\n                  Membros honorários: Aqueles a quem o escudo for conferido por\\n                  consenso, como homenagem por serviços prestados ao Moto Clube,\\n                  ao motociclismo ou a sociedade.\\n                \\n\\n\\n\\n\\n\\n\\n04\\n\\n                \\xa0\\xa0Da Admissão e Demissão de Membros do Moto Clube\\n              \\n\\n\\n\\nArtigo 5 \\n\\n                A proposta de admissão de um membro será objeto de aprovação em\\n                assembléia, tendo este que ser indicado por um membro fundador\\n                ou efetivo, e cumprir as exigências contidas no Artigo 6.\\n              \\n\\nArtigo 6 \\n\\n                São condições para admissão no Moto Clube como membro efetivo:\\n              \\n\\n\\n                  Possuir motocicleta no mínimo 250cc, ou Triciclo, com\\n                  documentos em dia e em perfeitas condições de uso e segurança.\\n                \\n\\n                  Possuir habilitação para condução de motocicletas de acordo\\n                  com a legislação vigente.\\n                \\nSer apresentado por um membro fundador ou efetivo.\\n\\n                  Ter condições de participar de pelo menos 1/3 dos eventos,\\n                  reuniões e atividades do Moto Clube.\\n                \\nNão possuir antecedentes Criminais.\\n\\nArtigo 7 \\n\\n                São motivos para o desligamento do quadro social do Moto Clube:\\n              \\n\\n\\n                  Cometer alguma penalidade conforme Artigo 10, que pela\\n                  gravidade ou reincidência, fique decidido em assembléia o\\n                  desligamento.\\n                \\n\\n                  Deixar de participar dos eventos, reuniões e atividades do\\n                  Moto Clube, sem previa comunicação.\\n                \\n\\n                  Tiver prestado de má fé, declaração inverídica, como\\n                  proponente de novo associado ou quando for o proposto.\\n                \\n\\n                  For condenado por crime doloso, com sentença transitada em\\n                  julgado.\\n                \\n\\n                  Apropriar-se por qualquer meio de dinheiro ou materiais\\n                  pertencentes da ASSOCIAÇÃO DE MOTOCICLISTAS HERMANDAD\\n                  MOTOCLUBE.\\n                \\n\\n                  Atentar contra créditos do KALANGOS MOTO CLUBE, diminuindo-a\\n                  no conceito público, por palavras, atos ou fatos.\\n                \\n\\n                  Induzir ou provocar brigas ou desordens no interior da sede\\n                  social ou em qualquer evento, no qual o KALANGOS MOTO CLUBE.\\n                \\n\\n                  Participar de corridas ilegais, arruaças ou mesmo contrariar a\\n                  legislação vigente no país.\\n                \\n\\n\\n\\n\\n\\n\\n05\\n\\xa0\\xa0Dos Direitos e Deveres dos membros\\n\\n\\n\\nArtigo 8 \\nTodo membro tem direito a:\\n\\nVotar e ser votado para cargos no Moto Clube.\\nUsar o escudo do Moto Clube.\\nParticipar dos eventos promovidos pelo Moto Clube.\\n\\n                  Tirar licença por tempo indeterminado, caso tenha necessidade\\n                  por motivos particulares.\\n                \\n\\n\\nArtigo 9 \\nSão deveres dos membros do Moto Clube:\\n\\nCumprir e fazer cumprir as disposições deste Estatuto.\\nComparecer as reuniões.\\n\\n                  Usar o escudo do Moto Clube sempre que possível quando fazendo\\n                  uso da motocicleta.\\n                \\n\\n                  Contribuir dentro de suas possibilidades com as obras de\\n                  caridade apoiadas pelo Moto Clube.\\n                \\n\\n                  Prestar cooperação aos demais associados em caso de\\n                  dificuldades nas viagens e passeios.\\n                \\n\\n\\nArtigo 10 \\nSão deveres dos prósperos do Moto Clube:\\n\\nParticipar ativamente de todas as reuniões Mensais.\\n\\n                  Viajar com o Grupo sempre que possível, respeitando o\\n                  “PUXADOR”, e demais Integrantes do Grupo, no tocante a\\n                  comportamento na estrada, velocidade, manobras, respeito às\\n                  normas de transito, pedestres, autoridades policiais.\\n                \\n\\n                  O Meio Escudo, irá fazer as “honras” da sede, quando\\n                  solicitado pela Presidência, Vice Presidência e Demais\\n                  Diretores, cabendo ainda ao Meio Escudo cuidar da Portaria,\\n                  Churrasqueira, Hastear as bandeiras do Município, do Estado e\\n                  Bandeira Nacional, bem como, outras tarefas que se julgar\\n                  necessário ao Moto Clube.\\n                \\n\\n                  Nas reuniões mensais, (que sempre será realizada nO “segundo\\n                  sábado do mês, onde serão discutidos assuntos do moto clube,\\n                  sendo que o Meio Escudo poderá opinar nas decisões, discussões\\n                  ou dar sugestões diretas, se solicitado ou autorizado pelos\\n                  Diretores.\\n                \\n\\n                  Ser apresentado oficialmente pelo seu PADRINHO, que se tornará\\n                  seu corresponsável pelos atos praticados, quando em viagens e\\n                  ostentando o meio escudo.\\n                \\n\\n                  O Meio Escudo estará sendo observado pelos Integrantes e pela\\n                  Diretoria ao qual havendo ofensa, desrespeito ou falha grave,\\n                  este PERDERÁ o Meio Escudo, sem necessidade de qualquer\\n                  procedimento administrativo.\\n                \\n\\n                  Em qualquer momento, se o próspero, deixar de fazer parte do\\n                  Kalango´s Moto Clube, este deverá devolver o brasão a que\\n                  sustenta, em como sua identificação no tocante a bolacha da\\n                  FMC.\\n                \\n\\n                  Na mesma condição, os demais integrantes da sua família, sendo\\n                  esposa, noiva, namorada, filhos, também deverão caso os tenha,\\n                  na mesma forma devolver o escudo e bolacha de identificação do\\n                  nome.\\n                \\n\\n                  Caso haja resistência ou não faça a devolução de forma\\n                  amigável, poderá o KALANGOS MOTO CLUBE na forma a que lhe\\n                  couber, requerer a devolução usando de todos os meios, sem\\n                  prejuízo aos legais.\\n                \\n\\n\\n\\n\\n\\n\\n\\n06\\n\\xa0\\xa0Das penalidades\\n\\n\\n\\nArtigo 11 \\nConstituem faltas que justificam punições:\\n\\n\\n                  Transferir para além do âmbito do Moto Clube os assuntos que\\n                  pela natureza ou por circunstâncias, devam permanecer\\n                  reservados.\\n                \\n\\n                  Cometer atos, vícios ou atitudes que tornem o seu autor\\n                  indesejável a comunidade do Moto Clube.\\n                \\n\\n                  Transgredir leis, ou atos que coloquem em risco outros membros\\n                  ou o Moto Clube como um todo.\\n                \\n\\n                  Comportamento inadequado durante as viagens ou passeios no\\n                  tangente as normas de segurança.\\n                \\n\\n\\n\\nArtigo 12 \\n\\n                As punições, após deliberado em Assembleia Geral, serão\\n                aplicadas na seguinte ordem:\\n              \\n\\nAdvertência.\\nDesligamento.\\n\\nInciso I – No ato do desligamento o membro deve\\n                  devolver o Escudo.\\n                \\n\\n\\n\\n\\n\\n07\\n\\xa0\\xa0Da Administração\\n\\n\\n\\nArtigo 13 \\nO Moto Clube será administrado pelos seguintes órgãos:\\n\\nDiretoria.\\nAssembléia Geral.\\n\\n\\nArtigo 14 \\nSeção 1 Das Assembléias\\n\\n                A Assembléia Geral é o maior órgão deliberativo, constituído\\n                pela reunião de todos os sócios com direito a voto, sendo\\n                soberana suas decisões, podendo ser ordinária ou\\n                extraordinariamente convocada.\\n              \\n\\nArtigo 15 \\nConvocar-se-á Assembléia Geral:\\n\\nTodo segundo sábado do mês para assuntos gerais.\\nA cada 02 (dois) anos para eleição de nova Diretoria.\\n\\nInciso I – O local das reuniões será definido\\n                  previamente e avisado a todos os membros.\\n                \\n\\n\\nArtigo 16 \\n\\n                Convocar-se-á extraordinariamente a Assembléia Geral em qualquer\\n                tempo para:\\n              \\n\\nAntes de cada viagem para acerto de detalhes.\\nVotar reforma estatutária.\\n\\n\\nArtigo 17 \\n\\n                Tendo, todos os membros com direito a voto, sido convocados e\\n                verificada a falta do número regulamentar de sócios na primeira\\n                chamada, o presidente anunciará uma segunda chamada para 30\\n                (trinta) minutos, quando a Assembleia será realizada com o\\n                quantitativo presente. Esta deliberará com 50% mais um, dos\\n                sócios presentes. As decisões da Assembleia são definitivas.\\n              \\n\\nArtigo 18 \\n\\n                O Moto Clube será administrado pela Presidência e Diretoria\\n                eleita pela Assembleia Geral, com mandato de 02 (dois) anos,\\n                podendo ser reeleito. Sendo a Composição da Diretoria:\\n              \\n\\nPresidente.\\nVice-Presidente.\\nDiretor de Eventos.\\nDiretor Financeiro.\\nDiretor e Marketing.\\nDiretor de Disciplica.\\nContabilidade.\\nSecretário.\\n\\n\\nArtigo 19 \\nCompete ao Presidente:\\n\\nRepresentar o Moto Clube Judicialmente.\\nPresidir a Diretoria nas reuniões e Assembleias.\\n\\n                  Representar o Moto Clube junto a empresas públicas e privadas,\\n                  entidades, Moto Clubes, etc.\\n                \\n\\n                  Assinar, juntamente com um Diretor, qualquer contrato\\n                  referente ao item acima.\\n                \\n\\n\\nArtigo 20 \\nCompete ao Vice-Presidente:\\n\\n\\n                  Na ausência do Presidente, praticar qualquer ato de sua\\n                  competência.\\n                \\n\\n                  Convocar as Assembleias Gerais, Ordinárias e/ou\\n                  Extraordinárias.\\n                \\n\\n                  Auxiliar o presidente em todos os atos de sua competência.\\n                \\n\\n\\nArtigo 21 \\nCompete ao Diretor de Eventos:\\n\\n\\n                  Cuidar da administração e relações públicas e comerciais aos\\n                  interesses do Moto Clube.\\n                \\n\\n                  Representar o Moto Clube sempre que forem solicitadas\\n                  declarações e qualquer tipo de reportagem.\\n                \\n\\n                  Formar, manter e zelar pelo acervo histórico do Moto Clube.\\n                \\n\\n                  Responsabilizar-se pela organização e infraestrutura dos\\n                  eventos.\\n                \\n\\n\\nArtigo 22 \\nCompete ao Diretor Financeiro:\\n\\n\\n                  Ter sob sua guarda e responsabilidade toda documentação de\\n                  caráter financeiro do Moto Clube.\\n                \\n\\n                  Efetuar as despesas do Moto Clube, monitorando compras e\\n                  vendas quando devidamente aprovado em Assembleia.\\n                \\n\\n                  Caso o Moto Clube venha a ter conta bancária, assinar junto\\n                  com o Presidente os cheques e demais documentos de\\n                  responsabilidade financeira.\\n                \\nPromover a arrecadação das taxas de adesão.\\n\\n\\nArtigo 23 \\nCompete ao Diretor de Marketing:\\n\\n\\n                  Divulgar os eventos e atividades que envolvam o Moto Clube a\\n                  todos os públicos, zela pela identidade visual.\\n                \\n\\n                  Manter e atualizar o site assim como as mídias sociais é\\n                  responsável pelo desenvolvimento de produção visual e pelo\\n                  planejamento geral dos eventos do Moto Clube, trabalha em\\n                  conjunto com a Diretoria administrativa.\\n                \\n\\n\\nArtigo 24 \\nCompete ao Secretário:\\n\\n\\n                  Elabora e executa o processo seletivo do Moto Clube, cria as\\n                  ferramentas que propiciem a melhoria contínua nas condições de\\n                  integrantes, avalia o desempenho dos prósperos, é responsável\\n                  pela elaboração das atas das reuniões administrativas e\\n                  Assembleias, encaminhamento de e-mail, controle de ficha\\n                  individual, trabalha em conjunto com o Diretor Presidente.\\n                \\n\\n\\nArtigo 25 \\nCompete ao Diretor de Disciplina:\\n\\n\\n                  Caberá ao Diretor de Disciplina comunicar aos conselheiros\\n                  permanentes e a diretoria, todas as faltas que os membros\\n                  associados cometerem, no seio da associação ou fora desta,\\n                  para que possa ser instaurado o procedimento administrativo,\\n                  facultando ao interessado todos os meios de defesas\\n                  pertinentes, sempre observando o Princípio da Ampla Defesa e\\n                  do Contraditório, a fim de julgar cada caso concreto. Caberá\\n                  ainda ao Diretor de Disciplina, em conjunto com o conselho\\n                  permanente, após a apresentação de todas as provas acostadas\\n                  ao procedimento administrativo julgar todos os atos, infrações\\n                  ou faltas praticados pelos membros associados.\\n                \\n\\n\\nArtigo 26 \\nCompete ao Diretor de Contabilidade:\\n\\n\\n                  Dirige os serviços de contabilidade e organiza o orçamento\\n                  anual a ser apresentado pela Diretoria Executiva, controla\\n                  movimentações contábeis e financeiras.\\n                \\n\\n\\n\\n\\n\\n08\\n\\xa0\\xa0Do Patrimônio - Receita e Despesa\\n\\n\\n\\nArtigo 27 \\nConstitui receita do Moto Clube:\\n\\nA Taxa de adesão.\\n\\n                  O produto de venda de material promocional com a marca do Moto\\n                  Clube, desde que autorizado por Assembléia.\\n                \\n\\n                  O produto de locação de imagens do Moto Clube para eventos,\\n                  fotos e filmagens.\\n                \\n\\nInciso I – A taxa de adesão é paga no ato da\\n                  homologação como membro, ocasião em que o novo membro recebe o\\n                  escudo e o direito de usa-lo enquanto for associado ao Moto\\n                  Clube. No desligamento o escudo deve ser devolvido.\\n                \\n\\n\\nArtigo 28 \\n\\n                Este estatuto foi aprovado em Assembleia Geral de 13 de julho de\\n                2013, e passará a constituir lei orgânica do Moto Clube.\\n              \\n\\n\\n\\n\\n\\n\\n\\n\\n\\n\\nSobre\\n\\n              Fundado em 25 de janeiro de 1995, na Zona Sul de São Paulo,\\n              trazendo como principal proposta a união dentro do motociclismo e\\n              em todo segmento social que vise a promoção da imagem do ser\\n              humano.\\n            \\nLeia Mais »\\n\\n\\n\\nIr para\\n\\n\\nHome\\nQuem Somos\\nIntegrantes\\nMídia\\nContato\\n\\n\\n\\n\\n\\nAcompanhe\\n\\n\\n\\n\\n\\n\\n\\n\\n\\n\\n\\n\\n\\n\\n\\n\\nLocalização\\n\\nKalangos Moto Clube\\n              Rua Joaquim Nunes Teixeira\\n              Nº307 - Vila das Belezas\\nClique aqui e Fale Conosco!\\n\\n\\n\\n\\n\\n\\n\\n\\n\\n\\n© 2022 Kalango's Moto Clube\\n\\n\\nAtualizado em: 13/05/2022\\n\\n\\n\\n\\n\\n\\n\\n\\n\\n\\n\\n\\n\\n\\n\\n\\n\\n\")]"
      ]
     },
     "execution_count": 14,
     "metadata": {},
     "output_type": "execute_result"
    }
   ],
   "source": [
    "docs"
   ]
  },
  {
   "cell_type": "code",
   "execution_count": 16,
   "metadata": {},
   "outputs": [
    {
     "data": {
      "text/plain": [
       "' Artigo 12 - Punições\\nAs penalidades decorrentes da infração dos princípios estabelecidos pelo Moto Clube podem variar conforme a gravidade do caso e ser decididas pelas assembleias competentes. Em geral, estes incluem advertências, onde se solicita à pessoa incriminada uma reflexão sobre seus comportamentos; desligamento temporário ou definitivo, dependendo da severidade da transgressão, exigindo também a devolução do escudo associativo como simbolismo de renúncia aos privilégios do clube até que possa provar reforma moral adequada.\\n\\nOs artigos referentes às assembléias mencionam explicitamente quais tipos de questões elas tratam e quantas vezes anualmente acontecem estas reuniões especificamente designadas para tarefas distintas entre si. Por exemplo, a Assembléia Ordinária tem lugar semanalmente nos domingos, enquanto a Extraordinária pode ser chamada a qualquer momento para lidar com situações imediatas, como mudanças nas lideranças ou outras emergencias necessitando tomada de decisão rápida. Além disso, há detalhes importantes quanto à gestão interna do clube, nomeadamente a existência de cargos claramente delimitados dentro deste quadro organizacional, garantindo assim a governança democrática e participativa. Cabe ressaltar ainda que todas as reuniões são planejadas antecipadamente e informadas aos sócios interessados, mantendo-se transparentes as funções e procedimentos dessas instituições.'"
      ]
     },
     "execution_count": 16,
     "metadata": {},
     "output_type": "execute_result"
    }
   ],
   "source": [
    "chain_rag.invoke(\"Quai são os requisitos para admissão?\")"
   ]
  }
 ],
 "metadata": {
  "kernelspec": {
   "display_name": "base",
   "language": "python",
   "name": "python3"
  },
  "language_info": {
   "codemirror_mode": {
    "name": "ipython",
    "version": 3
   },
   "file_extension": ".py",
   "mimetype": "text/x-python",
   "name": "python",
   "nbconvert_exporter": "python",
   "pygments_lexer": "ipython3",
   "version": "3.12.7"
  }
 },
 "nbformat": 4,
 "nbformat_minor": 2
}
