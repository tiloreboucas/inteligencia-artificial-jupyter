{
 "cells": [
  {
   "cell_type": "markdown",
   "metadata": {},
   "source": [
    "# Desafio do Caminhão\n",
    "\n",
    "## Maximização\n",
    "\n",
    "Nome, Espaço e Preço de Venda\n",
    "\n",
    "Quais são os produtos que vão dar maior lucro pra empresa\n",
    "\n",
    "Represenntação do Problema, utilizar um array de [0,1] onde 0 não carrega o produto e 1 carrega"
   ]
  },
  {
   "cell_type": "code",
   "execution_count": 2,
   "metadata": {},
   "outputs": [],
   "source": [
    "produtos = [\n",
    "    ['refrigerador a', 0.751, 999,90],\n",
    "    ['notebook a', 0.00350, 2499.90],\n",
    "    ['microondas c', 0.0319, 299,29],\n",
    "    ['notebook c', 0.527, 3999.00],\n",
    "    ['celular', 0.0000988, 2199.12],\n",
    "    ['ventilador', 0.496, 199.90],\n",
    "    ['refrigerador b', 0.635, 849.00],\n",
    "    ['tv 55', 0.400, 4346.99],\n",
    "    ['tv 50', 0.290, 3999.90],\n",
    "    ['microondas a', 0.0424, 308.66],\n",
    "    ['refrigerador c', 0.870, 1199.89],\n",
    "    ['tv 42', 0.200, 2999.90],\n",
    "    ['microondas b', 0.0544, 429.90],\n",
    "    ['notebook b', 0.498, 1999.90]\n",
    "]\n",
    "\n",
    "capacidade = 3"
   ]
  },
  {
   "cell_type": "code",
   "execution_count": 22,
   "metadata": {},
   "outputs": [],
   "source": [
    "def imprime_solucao(solucao):\n",
    "    volume = 0\n",
    "    valor = 0\n",
    "    for i in range(len(solucao)):\n",
    "        if solucao[i] == 1:\n",
    "            volume += produtos[i][1]\n",
    "            valor += produtos[i][2]\n",
    "            print(f'Nome: {produtos[i][0]}, Volume: {produtos[i][1]}, Valor: {produtos[i][2]}')\n",
    "\n",
    "    print(f'Volume total: {volume}', f'Valor total: {valor}', sep='\\n')"
   ]
  },
  {
   "cell_type": "code",
   "execution_count": 11,
   "metadata": {},
   "outputs": [],
   "source": [
    "def fitness_function(solucao):\n",
    "    volume = 0\n",
    "    valor = 0\n",
    "    for i in range(len(solucao)):\n",
    "        if solucao[i] == 1:\n",
    "            volume += produtos[i][1]\n",
    "            valor += produtos[i][2]\n",
    "    \n",
    "    if volume > capacidade:\n",
    "        return 0\n",
    "    \n",
    "    return valor"
   ]
  },
  {
   "cell_type": "code",
   "execution_count": 16,
   "metadata": {},
   "outputs": [
    {
     "name": "stdout",
     "output_type": "stream",
     "text": [
      "Processing ./mlrose\n",
      "  Installing build dependencies ... \u001b[?25ldone\n",
      "\u001b[?25h  Getting requirements to build wheel ... \u001b[?25ldone\n",
      "\u001b[?25h  Preparing metadata (pyproject.toml) ... \u001b[?25ldone\n",
      "\u001b[?25hRequirement already satisfied: numpy in ./venv/lib/python3.12/site-packages (from mlrose==1.3.0) (2.2.1)\n",
      "Requirement already satisfied: scipy in ./venv/lib/python3.12/site-packages (from mlrose==1.3.0) (1.14.1)\n",
      "Requirement already satisfied: scikit-learn in ./venv/lib/python3.12/site-packages (from mlrose==1.3.0) (1.6.0)\n",
      "Requirement already satisfied: joblib>=1.2.0 in ./venv/lib/python3.12/site-packages (from scikit-learn->mlrose==1.3.0) (1.4.2)\n",
      "Requirement already satisfied: threadpoolctl>=3.1.0 in ./venv/lib/python3.12/site-packages (from scikit-learn->mlrose==1.3.0) (3.5.0)\n",
      "Building wheels for collected packages: mlrose\n",
      "  Building wheel for mlrose (pyproject.toml) ... \u001b[?25ldone\n",
      "\u001b[?25h  Created wheel for mlrose: filename=mlrose-1.3.0-py3-none-any.whl size=27705 sha256=bd1a309a479134ccbd51faef7a39c800c73e0af32d6c080e924ea5dbe68a362a\n",
      "  Stored in directory: /tmp/pip-ephem-wheel-cache-2gxz9m2w/wheels/63/99/36/cda7a0212de4c7893176c5f6d370dafe545acfd9f77ae01107\n",
      "Successfully built mlrose\n",
      "Installing collected packages: mlrose\n",
      "  Attempting uninstall: mlrose\n",
      "    Found existing installation: mlrose 1.3.0\n",
      "    Uninstalling mlrose-1.3.0:\n",
      "      Successfully uninstalled mlrose-1.3.0\n",
      "Successfully installed mlrose-1.3.0\n",
      "Requirement already satisfied: mlrose in ./venv/lib/python3.12/site-packages (1.3.0)\n",
      "Requirement already satisfied: numpy in ./venv/lib/python3.12/site-packages (from mlrose) (2.2.1)\n",
      "Requirement already satisfied: scipy in ./venv/lib/python3.12/site-packages (from mlrose) (1.14.1)\n",
      "Requirement already satisfied: scikit-learn in ./venv/lib/python3.12/site-packages (from mlrose) (1.6.0)\n",
      "Requirement already satisfied: joblib>=1.2.0 in ./venv/lib/python3.12/site-packages (from scikit-learn->mlrose) (1.4.2)\n",
      "Requirement already satisfied: threadpoolctl>=3.1.0 in ./venv/lib/python3.12/site-packages (from scikit-learn->mlrose) (3.5.0)\n"
     ]
    }
   ],
   "source": [
    "\n",
    "!pip install mlrose/.\n",
    "!pip install mlrose\n",
    "\n",
    "import six\n",
    "import sys\n",
    "sys.modules['sklearn.externals.six'] = six\n",
    "\n",
    "import mlrose"
   ]
  },
  {
   "cell_type": "code",
   "execution_count": 17,
   "metadata": {},
   "outputs": [],
   "source": [
    "fitness = mlrose.CustomFitness(fitness_function)"
   ]
  },
  {
   "cell_type": "code",
   "execution_count": 28,
   "metadata": {},
   "outputs": [],
   "source": [
    "problema = mlrose.DiscreteOpt(length=14, fitness_fn=fitness, maximize = True, max_val = 2)"
   ]
  },
  {
   "cell_type": "code",
   "execution_count": 43,
   "metadata": {},
   "outputs": [
    {
     "data": {
      "text/plain": [
       "(array([0, 1, 0, 0, 1, 1, 1, 1, 1, 1, 1, 1, 1, 0]), 19033.16)"
      ]
     },
     "execution_count": 43,
     "metadata": {},
     "output_type": "execute_result"
    }
   ],
   "source": [
    "# Hill climb\n",
    "melhor_solucao, melhor_custo = mlrose.hill_climb(problema, random_state = 0)\n",
    "melhor_solucao, melhor_custo"
   ]
  },
  {
   "cell_type": "code",
   "execution_count": 44,
   "metadata": {},
   "outputs": [
    {
     "name": "stdout",
     "output_type": "stream",
     "text": [
      "Nome: notebook a, Volume: 0.0035, Valor: 2499.9\n",
      "Nome: celular, Volume: 9.88e-05, Valor: 2199.12\n",
      "Nome: ventilador, Volume: 0.496, Valor: 199.9\n",
      "Nome: refrigerador b, Volume: 0.635, Valor: 849.0\n",
      "Nome: tv 55, Volume: 0.4, Valor: 4346.99\n",
      "Nome: tv 50, Volume: 0.29, Valor: 3999.9\n",
      "Nome: microondas a, Volume: 0.0424, Valor: 308.66\n",
      "Nome: refrigerador c, Volume: 0.87, Valor: 1199.89\n",
      "Nome: tv 42, Volume: 0.2, Valor: 2999.9\n",
      "Nome: microondas b, Volume: 0.0544, Valor: 429.9\n",
      "Volume total: 2.9913988\n",
      "Valor total: 19033.16\n"
     ]
    }
   ],
   "source": [
    "imprime_solucao(melhor_solucao)"
   ]
  },
  {
   "cell_type": "code",
   "execution_count": 60,
   "metadata": {},
   "outputs": [
    {
     "name": "stdout",
     "output_type": "stream",
     "text": [
      "Nome: notebook a, Volume: 0.0035, Valor: 2499.9\n",
      "Nome: microondas c, Volume: 0.0319, Valor: 299\n",
      "Nome: notebook c, Volume: 0.527, Valor: 3999.0\n",
      "Nome: celular, Volume: 9.88e-05, Valor: 2199.12\n",
      "Nome: ventilador, Volume: 0.496, Valor: 199.9\n",
      "Nome: tv 50, Volume: 0.29, Valor: 3999.9\n",
      "Nome: microondas a, Volume: 0.0424, Valor: 308.66\n",
      "Nome: refrigerador c, Volume: 0.87, Valor: 1199.89\n",
      "Nome: microondas b, Volume: 0.0544, Valor: 429.9\n",
      "Nome: notebook b, Volume: 0.498, Valor: 1999.9\n",
      "Volume total: 2.8132988\n",
      "Valor total: 17135.17\n"
     ]
    }
   ],
   "source": [
    "# Simulated Annealing\n",
    "melhor_solucao, melhor_custo = mlrose.simulated_annealing(problema)\n",
    "melhor_solucao, melhor_custo \n",
    "\n",
    "imprime_solucao(melhor_solucao)"
   ]
  },
  {
   "cell_type": "code",
   "execution_count": 69,
   "metadata": {},
   "outputs": [
    {
     "name": "stdout",
     "output_type": "stream",
     "text": [
      "Nome: notebook a, Volume: 0.0035, Valor: 2499.9\n",
      "Nome: microondas c, Volume: 0.0319, Valor: 299\n",
      "Nome: notebook c, Volume: 0.527, Valor: 3999.0\n",
      "Nome: celular, Volume: 9.88e-05, Valor: 2199.12\n",
      "Nome: tv 55, Volume: 0.4, Valor: 4346.99\n",
      "Nome: tv 50, Volume: 0.29, Valor: 3999.9\n",
      "Nome: microondas a, Volume: 0.0424, Valor: 308.66\n",
      "Nome: refrigerador c, Volume: 0.87, Valor: 1199.89\n",
      "Nome: tv 42, Volume: 0.2, Valor: 2999.9\n",
      "Nome: microondas b, Volume: 0.0544, Valor: 429.9\n",
      "Nome: notebook b, Volume: 0.498, Valor: 1999.9\n",
      "Volume total: 2.9172988\n",
      "Valor total: 24282.160000000003\n"
     ]
    }
   ],
   "source": [
    "# Algoritimo Genetico\n",
    "melhor_solucao, melhor_custo = mlrose.genetic_alg(problema, pop_size=500, mutation_prob=0.2)\n",
    "melhor_solucao, melhor_custo\n",
    "\n",
    "imprime_solucao(melhor_solucao)"
   ]
  }
 ],
 "metadata": {
  "kernelspec": {
   "display_name": "venv",
   "language": "python",
   "name": "python3"
  },
  "language_info": {
   "codemirror_mode": {
    "name": "ipython",
    "version": 3
   },
   "file_extension": ".py",
   "mimetype": "text/x-python",
   "name": "python",
   "nbconvert_exporter": "python",
   "pygments_lexer": "ipython3",
   "version": "3.12.3"
  }
 },
 "nbformat": 4,
 "nbformat_minor": 2
}
