{
  "cells": [
    {
      "cell_type": "markdown",
      "metadata": {
        "id": "lmY8JVlQxXjj"
      },
      "source": [
        "# Algoritmos de otimização - calendário de voos"
      ]
    },
    {
      "cell_type": "markdown",
      "metadata": {
        "id": "iA6XSNeifEB0"
      },
      "source": [
        "## Representação do problema"
      ]
    },
    {
      "cell_type": "code",
      "execution_count": 1,
      "metadata": {
        "id": "tgkqEoRdxgfw"
      },
      "outputs": [],
      "source": [
        "pessoas = [('Lisboa', 'LIS'),\n",
        "           ('Madrid', 'MAD'),\n",
        "           ('Paris', 'CDG'),\n",
        "           ('Dublin', 'DUB'),\n",
        "           ('Bruxelas', 'BRU'),\n",
        "           ('Londres', 'LHR')]"
      ]
    },
    {
      "cell_type": "code",
      "execution_count": 2,
      "metadata": {
        "colab": {
          "base_uri": "https://localhost:8080/"
        },
        "id": "6YkrP_6zx2--",
        "outputId": "d7a045a0-e680-4f50-ffb4-35558c5cfdd4"
      },
      "outputs": [
        {
          "data": {
            "text/plain": [
              "('Londres', 'LHR')"
            ]
          },
          "execution_count": 2,
          "metadata": {},
          "output_type": "execute_result"
        }
      ],
      "source": [
        "pessoas[5]"
      ]
    },
    {
      "cell_type": "code",
      "execution_count": 3,
      "metadata": {
        "id": "FezIjellyATt"
      },
      "outputs": [],
      "source": [
        "destino = 'FCO'"
      ]
    },
    {
      "cell_type": "code",
      "execution_count": 9,
      "metadata": {
        "id": "i4pk1lYDyaaY"
      },
      "outputs": [],
      "source": [
        "voos = {}\n",
        "for linha in open('/media/dev/UbuntuFiles/sandbox/inteligencia-artificial/flights.txt'):\n",
        "  origem, destino, saida, chegada, preco = linha.split(',')\n",
        "  voos.setdefault((origem, destino), [])\n",
        "  voos[(origem, destino)].append((saida, chegada, int(preco)))"
      ]
    },
    {
      "cell_type": "code",
      "execution_count": 12,
      "metadata": {
        "colab": {
          "base_uri": "https://localhost:8080/"
        },
        "id": "NzPvuuaW1Wb2",
        "outputId": "2712b8ef-f29f-400a-b48f-996cace5bf0f"
      },
      "outputs": [
        {
          "data": {
            "text/plain": [
              "12"
            ]
          },
          "execution_count": 12,
          "metadata": {},
          "output_type": "execute_result"
        }
      ],
      "source": [
        "agenda = [1,2, 3,2, 7,3, 6,3, 2,4, 5,3]"
      ]
    },
    {
      "cell_type": "code",
      "execution_count": 14,
      "metadata": {
        "id": "fZ3VCkNY2A5-"
      },
      "outputs": [],
      "source": [
        "def imprimir_voos(agenda):\n",
        "  id_voo = -1\n",
        "  total_preco = 0\n",
        "  for i in range(len(agenda) // 2):\n",
        "    nome = pessoas[i][0]\n",
        "    origem = pessoas[i][1]\n",
        "    id_voo += 1\n",
        "    ida = voos[(origem, destino)][agenda[id_voo]]\n",
        "    total_preco += ida[2]\n",
        "    id_voo += 1\n",
        "    volta = voos[(destino, origem)][agenda[id_voo]]\n",
        "    total_preco += volta[2]\n",
        "    print('%10s%10s %5s-%5s %3s %5s-%5s %3s' % (nome, origem, ida[0], ida[1], ida[2],\n",
        "                                                volta[0], volta[1], volta[2]))\n",
        "  print('Preço total: ', total_preco)"
      ]
    },
    {
      "cell_type": "code",
      "execution_count": 15,
      "metadata": {
        "colab": {
          "base_uri": "https://localhost:8080/"
        },
        "id": "zVPPuyby4IXF",
        "outputId": "da9c5957-ee5e-41fc-8980-2409de97ae57"
      },
      "outputs": [
        {
          "name": "stdout",
          "output_type": "stream",
          "text": [
            "    Lisboa       LIS  7:39-10:24 219  6:19- 8:13 239\n",
            "    Madrid       MAD 11:01-12:39 260  9:11-10:42 172\n",
            "     Paris       CDG 17:07-20:04 291  8:23-11:07 143\n",
            "    Dublin       DUB 15:27-17:18 151 10:33-12:03  74\n",
            "  Bruxelas       BRU  9:08-12:12 364 12:20-16:34 500\n",
            "   Londres       LHR 13:40-15:38 137 10:32-13:16 139\n",
            "Preço total:  2689\n"
          ]
        }
      ],
      "source": [
        "agenda = [1,0, 3,2, 7,1, 6,3, 2,4, 5,3]\n",
        "imprimir_voos(agenda)"
      ]
    },
    {
      "cell_type": "code",
      "execution_count": null,
      "metadata": {
        "colab": {
          "base_uri": "https://localhost:8080/"
        },
        "id": "ecuxeMa_43Jn",
        "outputId": "d0a1437f-db6c-48c9-de43-b85aadf7e4eb"
      },
      "outputs": [
        {
          "data": {
            "text/plain": [
              "1000000000000"
            ]
          },
          "execution_count": 17,
          "metadata": {},
          "output_type": "execute_result"
        }
      ],
      "source": [
        "10**12"
      ]
    },
    {
      "cell_type": "markdown",
      "metadata": {
        "id": "GqqEtILuYaj-"
      },
      "source": [
        "## Fitness function"
      ]
    },
    {
      "cell_type": "code",
      "execution_count": null,
      "metadata": {
        "id": "fH1uo4sm5dyK"
      },
      "outputs": [],
      "source": [
        "def fitness_function(agenda):\n",
        "  id_voo = -1\n",
        "  total_preco = 0\n",
        "  for i in range(len(agenda) // 2):\n",
        "    origem = pessoas[i][1]\n",
        "    id_voo += 1\n",
        "    ida = voos[(origem, destino)][agenda[id_voo]]\n",
        "    total_preco += ida[2]\n",
        "    id_voo += 1\n",
        "    volta = voos[(destino, origem)][agenda[id_voo]]\n",
        "    total_preco += volta[2]\n",
        "\n",
        "  return total_preco"
      ]
    },
    {
      "cell_type": "code",
      "execution_count": null,
      "metadata": {
        "colab": {
          "base_uri": "https://localhost:8080/"
        },
        "id": "OSaGBRB25_Xk",
        "outputId": "c291a063-e765-4804-d64d-b72a773509df"
      },
      "outputs": [
        {
          "data": {
            "text/plain": [
              "2619"
            ]
          },
          "execution_count": 19,
          "metadata": {},
          "output_type": "execute_result"
        }
      ],
      "source": [
        "agenda = [1,7, 3,1, 1,1, 6,3, 2,4, 5,3]\n",
        "fitness_function(agenda)"
      ]
    },
    {
      "cell_type": "markdown",
      "metadata": {
        "id": "_dyPcKz4xhSy"
      },
      "source": [
        "<font color='red'>Atualização JAN/2024 relacionada à instalação do mlrose</font>"
      ]
    },
    {
      "cell_type": "code",
      "execution_count": null,
      "metadata": {
        "colab": {
          "base_uri": "https://localhost:8080/"
        },
        "id": "QNunf3FrxoP2",
        "outputId": "1a542d19-a985-4e28-dd71-c38d34af15fb"
      },
      "outputs": [
        {
          "name": "stdout",
          "output_type": "stream",
          "text": [
            "Cloning into 'mlrose'...\n",
            "remote: Enumerating objects: 853, done.\u001b[K\n",
            "remote: Counting objects: 100% (4/4), done.\u001b[K\n",
            "remote: Compressing objects: 100% (4/4), done.\u001b[K\n",
            "remote: Total 853 (delta 0), reused 4 (delta 0), pack-reused 849\u001b[K\n",
            "Receiving objects: 100% (853/853), 414.35 KiB | 7.14 MiB/s, done.\n",
            "Resolving deltas: 100% (551/551), done.\n",
            "Processing ./mlrose\n",
            "  Preparing metadata (setup.py) ... \u001b[?25l\u001b[?25hdone\n",
            "Requirement already satisfied: numpy in /usr/local/lib/python3.10/dist-packages (from mlrose==1.3.0) (1.25.2)\n",
            "Requirement already satisfied: scipy in /usr/local/lib/python3.10/dist-packages (from mlrose==1.3.0) (1.11.4)\n",
            "Requirement already satisfied: scikit-learn in /usr/local/lib/python3.10/dist-packages (from mlrose==1.3.0) (1.2.2)\n",
            "Requirement already satisfied: joblib>=1.1.1 in /usr/local/lib/python3.10/dist-packages (from scikit-learn->mlrose==1.3.0) (1.3.2)\n",
            "Requirement already satisfied: threadpoolctl>=2.0.0 in /usr/local/lib/python3.10/dist-packages (from scikit-learn->mlrose==1.3.0) (3.2.0)\n",
            "Building wheels for collected packages: mlrose\n",
            "  Building wheel for mlrose (setup.py) ... \u001b[?25l\u001b[?25hdone\n",
            "  Created wheel for mlrose: filename=mlrose-1.3.0-py3-none-any.whl size=27711 sha256=e1ab24963996a305a974cd56c6bb43b8ecda7d66a1c0ec4221804da5f3bc5f48\n",
            "  Stored in directory: /tmp/pip-ephem-wheel-cache-bcsbxw66/wheels/50/ac/56/a248001dcf63344fbef992039dec2613cb4a7c56222c6f9a92\n",
            "Successfully built mlrose\n",
            "Installing collected packages: mlrose\n",
            "Successfully installed mlrose-1.3.0\n"
          ]
        }
      ],
      "source": [
        "!git clone https://github.com/gkhayes/mlrose.git\n",
        "!pip install mlrose/."
      ]
    },
    {
      "cell_type": "code",
      "execution_count": null,
      "metadata": {
        "id": "Bqmj2a3A8lSA"
      },
      "outputs": [],
      "source": [
        "#!pip install mlrose - este código pode não funcionar"
      ]
    },
    {
      "cell_type": "code",
      "execution_count": null,
      "metadata": {
        "id": "qlSJlk-VeffS"
      },
      "outputs": [],
      "source": [
        "import six\n",
        "import sys\n",
        "sys.modules['sklearn.externals.six'] = six"
      ]
    },
    {
      "cell_type": "code",
      "execution_count": null,
      "metadata": {
        "id": "hleIBozb8toR"
      },
      "outputs": [],
      "source": [
        "import mlrose"
      ]
    },
    {
      "cell_type": "code",
      "execution_count": null,
      "metadata": {
        "id": "sgqWculR8yqo"
      },
      "outputs": [],
      "source": [
        "fitness = mlrose.CustomFitness(fitness_function)"
      ]
    },
    {
      "cell_type": "code",
      "execution_count": null,
      "metadata": {
        "id": "HWQKJU3w9DGr"
      },
      "outputs": [],
      "source": [
        "problema = mlrose.DiscreteOpt(length=12, fitness_fn=fitness,\n",
        "                              maximize = False, max_val = 10)"
      ]
    },
    {
      "cell_type": "markdown",
      "metadata": {
        "id": "pMo4HJcsnGVT"
      },
      "source": [
        "## Hill climb"
      ]
    },
    {
      "cell_type": "code",
      "execution_count": null,
      "metadata": {
        "colab": {
          "base_uri": "https://localhost:8080/"
        },
        "id": "wrWp0PbxFY2a",
        "outputId": "55ac2e3c-bce5-4346-c257-b778926031d4"
      },
      "outputs": [
        {
          "data": {
            "text/plain": [
              "(array([2, 6, 5, 7, 8, 1, 3, 6, 0, 2, 9, 1]), 1566.0)"
            ]
          },
          "execution_count": 27,
          "metadata": {},
          "output_type": "execute_result"
        }
      ],
      "source": [
        "melhor_solucao, melhor_custo = mlrose.hill_climb(problema, random_state = 1)\n",
        "melhor_solucao, melhor_custo"
      ]
    },
    {
      "cell_type": "code",
      "execution_count": null,
      "metadata": {
        "colab": {
          "base_uri": "https://localhost:8080/"
        },
        "id": "cFm4OyLPGXgp",
        "outputId": "a9bf5f69-43d4-4d37-eab8-b9924294ecea"
      },
      "outputs": [
        {
          "name": "stdout",
          "output_type": "stream",
          "text": [
            "    Lisboa       LIS  9:15-12:03  99 15:07-17:21 129\n",
            "    Madrid       MAD 14:22-16:32 126 17:06-20:00  95\n",
            "     Paris       CDG 18:23-21:35 134  8:23-11:07 143\n",
            "    Dublin       DUB 11:16-13:29  83 15:25-16:58  62\n",
            "  Bruxelas       BRU  6:12-10:22 230  9:49-13:51 229\n",
            "   Londres       LHR 20:30-23:11 114  8:19-11:16 122\n",
            "Preço total:  1566\n"
          ]
        }
      ],
      "source": [
        "imprimir_voos(melhor_solucao)"
      ]
    },
    {
      "cell_type": "code",
      "execution_count": null,
      "metadata": {
        "colab": {
          "base_uri": "https://localhost:8080/"
        },
        "id": "JbDgA_MuGgLU",
        "outputId": "1db204a2-a50d-4f20-d46e-f7cece3d7f71"
      },
      "outputs": [
        {
          "data": {
            "text/plain": [
              "[('6:12', '10:22', 230),\n",
              " ('7:53', '11:37', 433),\n",
              " ('9:08', '12:12', 364),\n",
              " ('10:30', '14:57', 290),\n",
              " ('12:19', '15:25', 342),\n",
              " ('13:54', '18:02', 294),\n",
              " ('15:44', '18:55', 382),\n",
              " ('16:52', '20:48', 448),\n",
              " ('18:26', '21:29', 464),\n",
              " ('20:07', '23:27', 473)]"
            ]
          },
          "execution_count": 29,
          "metadata": {},
          "output_type": "execute_result"
        }
      ],
      "source": [
        "voos[('BRU', 'FCO')]"
      ]
    },
    {
      "cell_type": "markdown",
      "metadata": {
        "id": "mgHnSkdacDEp"
      },
      "source": [
        "## Simulated annealing"
      ]
    },
    {
      "cell_type": "code",
      "execution_count": null,
      "metadata": {
        "colab": {
          "base_uri": "https://localhost:8080/"
        },
        "id": "TM9bez7II2V3",
        "outputId": "941031bf-bd3d-4aef-fb6d-a1872954c720"
      },
      "outputs": [
        {
          "data": {
            "text/plain": [
              "(array([6, 7, 4, 9, 8, 4, 1, 0, 0, 3, 5, 3]), 1820.0)"
            ]
          },
          "execution_count": 30,
          "metadata": {},
          "output_type": "execute_result"
        }
      ],
      "source": [
        "melhor_solucao, melhor_custo = mlrose.simulated_annealing(problema,\n",
        "                                                        #   schedule=mlrose.decay.GeomDecay(init_temp=10000), # ATUALIZAÇÃO FEV-2024\n",
        "                                                          schedule=mlrose.GeomDecay(init_temp=10000), # ATUALIZAÇÃO FEV-2024\n",
        "                                                          random_state=1)\n",
        "melhor_solucao, melhor_custo"
      ]
    },
    {
      "cell_type": "code",
      "execution_count": null,
      "metadata": {
        "colab": {
          "base_uri": "https://localhost:8080/"
        },
        "id": "zfhQV3U_K0nH",
        "outputId": "b035f478-4c57-45fc-f5b7-b0f015e59995"
      },
      "outputs": [
        {
          "name": "stdout",
          "output_type": "stream",
          "text": [
            "    Lisboa       LIS 15:03-16:42 135 16:35-18:56 144\n",
            "    Madrid       MAD 12:44-14:17 134 19:32-21:25 160\n",
            "     Paris       CDG 18:23-21:35 134 12:37-15:05 170\n",
            "    Dublin       DUB  8:04-10:11  95  6:39- 8:09  86\n",
            "  Bruxelas       BRU  6:12-10:22 230 10:51-14:16 256\n",
            "   Londres       LHR 13:40-15:38 137 10:32-13:16 139\n",
            "Preço total:  1820\n"
          ]
        }
      ],
      "source": [
        "imprimir_voos(melhor_solucao)"
      ]
    },
    {
      "cell_type": "markdown",
      "metadata": {
        "id": "Zt7GvTvc1dnQ"
      },
      "source": [
        "## Algoritmo genético"
      ]
    },
    {
      "cell_type": "code",
      "execution_count": null,
      "metadata": {
        "colab": {
          "base_uri": "https://localhost:8080/"
        },
        "id": "tYlwF-n2XtMm",
        "outputId": "09b20bb6-7522-41dc-cd93-d5ea352c3fe5"
      },
      "outputs": [
        {
          "data": {
            "text/plain": [
              "(array([7, 3, 1, 2, 9, 0, 3, 8, 0, 3, 4, 1]), 1956.0)"
            ]
          },
          "execution_count": 32,
          "metadata": {},
          "output_type": "execute_result"
        }
      ],
      "source": [
        "melhor_solucao, melhor_custo = mlrose.genetic_alg(problema, pop_size=500, mutation_prob=0.2,\n",
        "                                                  random_state=1)\n",
        "melhor_solucao, melhor_custo"
      ]
    },
    {
      "cell_type": "code",
      "execution_count": null,
      "metadata": {
        "colab": {
          "base_uri": "https://localhost:8080/"
        },
        "id": "7Vfden9jYn1j",
        "outputId": "97cb1444-53b7-4d79-f28a-0b8186b1b5c0"
      },
      "outputs": [
        {
          "name": "stdout",
          "output_type": "stream",
          "text": [
            "    Lisboa       LIS 16:51-19:09 147 11:07-13:24 171\n",
            "    Madrid       MAD  8:25-10:34 157  9:11-10:42 172\n",
            "     Paris       CDG 19:53-22:21 173  6:33- 9:14 172\n",
            "    Dublin       DUB 11:16-13:29  83 18:24-20:49 124\n",
            "  Bruxelas       BRU  6:12-10:22 230 10:51-14:16 256\n",
            "   Londres       LHR 12:08-14:59 149  8:19-11:16 122\n",
            "Preço total:  1956\n"
          ]
        }
      ],
      "source": [
        "imprimir_voos(melhor_solucao)"
      ]
    }
  ],
  "metadata": {
    "colab": {
      "provenance": []
    },
    "kernelspec": {
      "display_name": "venv",
      "language": "python",
      "name": "python3"
    },
    "language_info": {
      "codemirror_mode": {
        "name": "ipython",
        "version": 3
      },
      "file_extension": ".py",
      "mimetype": "text/x-python",
      "name": "python",
      "nbconvert_exporter": "python",
      "pygments_lexer": "ipython3",
      "version": "3.12.3"
    }
  },
  "nbformat": 4,
  "nbformat_minor": 0
}
