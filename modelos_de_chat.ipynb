{
 "cells": [
  {
   "cell_type": "code",
   "execution_count": 2,
   "metadata": {},
   "outputs": [
    {
     "name": "stdout",
     "output_type": "stream",
     "text": [
      "Requirement already satisfied: langchain in /home/dev/anaconda3/lib/python3.12/site-packages (0.3.14)\n",
      "Requirement already satisfied: PyYAML>=5.3 in /home/dev/anaconda3/lib/python3.12/site-packages (from langchain) (6.0.1)\n",
      "Requirement already satisfied: SQLAlchemy<3,>=1.4 in /home/dev/anaconda3/lib/python3.12/site-packages (from langchain) (2.0.34)\n",
      "Requirement already satisfied: aiohttp<4.0.0,>=3.8.3 in /home/dev/anaconda3/lib/python3.12/site-packages (from langchain) (3.10.5)\n",
      "Requirement already satisfied: langchain-core<0.4.0,>=0.3.29 in /home/dev/anaconda3/lib/python3.12/site-packages (from langchain) (0.3.29)\n",
      "Requirement already satisfied: langchain-text-splitters<0.4.0,>=0.3.3 in /home/dev/anaconda3/lib/python3.12/site-packages (from langchain) (0.3.5)\n",
      "Requirement already satisfied: langsmith<0.3,>=0.1.17 in /home/dev/anaconda3/lib/python3.12/site-packages (from langchain) (0.2.10)\n",
      "Requirement already satisfied: numpy<3,>=1.26.2 in /home/dev/anaconda3/lib/python3.12/site-packages (from langchain) (1.26.4)\n",
      "Requirement already satisfied: pydantic<3.0.0,>=2.7.4 in /home/dev/anaconda3/lib/python3.12/site-packages (from langchain) (2.8.2)\n",
      "Requirement already satisfied: requests<3,>=2 in /home/dev/anaconda3/lib/python3.12/site-packages (from langchain) (2.32.3)\n",
      "Requirement already satisfied: tenacity!=8.4.0,<10,>=8.1.0 in /home/dev/anaconda3/lib/python3.12/site-packages (from langchain) (8.2.3)\n",
      "Requirement already satisfied: aiohappyeyeballs>=2.3.0 in /home/dev/anaconda3/lib/python3.12/site-packages (from aiohttp<4.0.0,>=3.8.3->langchain) (2.4.0)\n",
      "Requirement already satisfied: aiosignal>=1.1.2 in /home/dev/anaconda3/lib/python3.12/site-packages (from aiohttp<4.0.0,>=3.8.3->langchain) (1.2.0)\n",
      "Requirement already satisfied: attrs>=17.3.0 in /home/dev/anaconda3/lib/python3.12/site-packages (from aiohttp<4.0.0,>=3.8.3->langchain) (23.1.0)\n",
      "Requirement already satisfied: frozenlist>=1.1.1 in /home/dev/anaconda3/lib/python3.12/site-packages (from aiohttp<4.0.0,>=3.8.3->langchain) (1.4.0)\n",
      "Requirement already satisfied: multidict<7.0,>=4.5 in /home/dev/anaconda3/lib/python3.12/site-packages (from aiohttp<4.0.0,>=3.8.3->langchain) (6.0.4)\n",
      "Requirement already satisfied: yarl<2.0,>=1.0 in /home/dev/anaconda3/lib/python3.12/site-packages (from aiohttp<4.0.0,>=3.8.3->langchain) (1.11.0)\n",
      "Requirement already satisfied: jsonpatch<2.0,>=1.33 in /home/dev/anaconda3/lib/python3.12/site-packages (from langchain-core<0.4.0,>=0.3.29->langchain) (1.33)\n",
      "Requirement already satisfied: packaging<25,>=23.2 in /home/dev/anaconda3/lib/python3.12/site-packages (from langchain-core<0.4.0,>=0.3.29->langchain) (24.1)\n",
      "Requirement already satisfied: typing-extensions>=4.7 in /home/dev/anaconda3/lib/python3.12/site-packages (from langchain-core<0.4.0,>=0.3.29->langchain) (4.11.0)\n",
      "Requirement already satisfied: httpx<1,>=0.23.0 in /home/dev/anaconda3/lib/python3.12/site-packages (from langsmith<0.3,>=0.1.17->langchain) (0.27.0)\n",
      "Requirement already satisfied: orjson<4.0.0,>=3.9.14 in /home/dev/anaconda3/lib/python3.12/site-packages (from langsmith<0.3,>=0.1.17->langchain) (3.10.14)\n",
      "Requirement already satisfied: requests-toolbelt<2.0.0,>=1.0.0 in /home/dev/anaconda3/lib/python3.12/site-packages (from langsmith<0.3,>=0.1.17->langchain) (1.0.0)\n",
      "Requirement already satisfied: annotated-types>=0.4.0 in /home/dev/anaconda3/lib/python3.12/site-packages (from pydantic<3.0.0,>=2.7.4->langchain) (0.6.0)\n",
      "Requirement already satisfied: pydantic-core==2.20.1 in /home/dev/anaconda3/lib/python3.12/site-packages (from pydantic<3.0.0,>=2.7.4->langchain) (2.20.1)\n",
      "Requirement already satisfied: charset-normalizer<4,>=2 in /home/dev/anaconda3/lib/python3.12/site-packages (from requests<3,>=2->langchain) (3.3.2)\n",
      "Requirement already satisfied: idna<4,>=2.5 in /home/dev/anaconda3/lib/python3.12/site-packages (from requests<3,>=2->langchain) (3.7)\n",
      "Requirement already satisfied: urllib3<3,>=1.21.1 in /home/dev/anaconda3/lib/python3.12/site-packages (from requests<3,>=2->langchain) (2.2.3)\n",
      "Requirement already satisfied: certifi>=2017.4.17 in /home/dev/anaconda3/lib/python3.12/site-packages (from requests<3,>=2->langchain) (2024.12.14)\n",
      "Requirement already satisfied: greenlet!=0.4.17 in /home/dev/anaconda3/lib/python3.12/site-packages (from SQLAlchemy<3,>=1.4->langchain) (3.0.1)\n",
      "Requirement already satisfied: anyio in /home/dev/anaconda3/lib/python3.12/site-packages (from httpx<1,>=0.23.0->langsmith<0.3,>=0.1.17->langchain) (4.2.0)\n",
      "Requirement already satisfied: httpcore==1.* in /home/dev/anaconda3/lib/python3.12/site-packages (from httpx<1,>=0.23.0->langsmith<0.3,>=0.1.17->langchain) (1.0.2)\n",
      "Requirement already satisfied: sniffio in /home/dev/anaconda3/lib/python3.12/site-packages (from httpx<1,>=0.23.0->langsmith<0.3,>=0.1.17->langchain) (1.3.0)\n",
      "Requirement already satisfied: h11<0.15,>=0.13 in /home/dev/anaconda3/lib/python3.12/site-packages (from httpcore==1.*->httpx<1,>=0.23.0->langsmith<0.3,>=0.1.17->langchain) (0.14.0)\n",
      "Requirement already satisfied: jsonpointer>=1.9 in /home/dev/anaconda3/lib/python3.12/site-packages (from jsonpatch<2.0,>=1.33->langchain-core<0.4.0,>=0.3.29->langchain) (2.1)\n",
      "Note: you may need to restart the kernel to use updated packages.\n",
      "Requirement already satisfied: langchain-community in /home/dev/anaconda3/lib/python3.12/site-packages (0.3.14)\n",
      "Requirement already satisfied: PyYAML>=5.3 in /home/dev/anaconda3/lib/python3.12/site-packages (from langchain-community) (6.0.1)\n",
      "Requirement already satisfied: SQLAlchemy<3,>=1.4 in /home/dev/anaconda3/lib/python3.12/site-packages (from langchain-community) (2.0.34)\n",
      "Requirement already satisfied: aiohttp<4.0.0,>=3.8.3 in /home/dev/anaconda3/lib/python3.12/site-packages (from langchain-community) (3.10.5)\n",
      "Requirement already satisfied: dataclasses-json<0.7,>=0.5.7 in /home/dev/anaconda3/lib/python3.12/site-packages (from langchain-community) (0.6.7)\n",
      "Requirement already satisfied: httpx-sse<0.5.0,>=0.4.0 in /home/dev/anaconda3/lib/python3.12/site-packages (from langchain-community) (0.4.0)\n",
      "Requirement already satisfied: langchain<0.4.0,>=0.3.14 in /home/dev/anaconda3/lib/python3.12/site-packages (from langchain-community) (0.3.14)\n",
      "Requirement already satisfied: langchain-core<0.4.0,>=0.3.29 in /home/dev/anaconda3/lib/python3.12/site-packages (from langchain-community) (0.3.29)\n",
      "Requirement already satisfied: langsmith<0.3,>=0.1.125 in /home/dev/anaconda3/lib/python3.12/site-packages (from langchain-community) (0.2.10)\n",
      "Requirement already satisfied: numpy<3,>=1.26.2 in /home/dev/anaconda3/lib/python3.12/site-packages (from langchain-community) (1.26.4)\n",
      "Requirement already satisfied: pydantic-settings<3.0.0,>=2.4.0 in /home/dev/anaconda3/lib/python3.12/site-packages (from langchain-community) (2.6.1)\n",
      "Requirement already satisfied: requests<3,>=2 in /home/dev/anaconda3/lib/python3.12/site-packages (from langchain-community) (2.32.3)\n",
      "Requirement already satisfied: tenacity!=8.4.0,<10,>=8.1.0 in /home/dev/anaconda3/lib/python3.12/site-packages (from langchain-community) (8.2.3)\n",
      "Requirement already satisfied: aiohappyeyeballs>=2.3.0 in /home/dev/anaconda3/lib/python3.12/site-packages (from aiohttp<4.0.0,>=3.8.3->langchain-community) (2.4.0)\n",
      "Requirement already satisfied: aiosignal>=1.1.2 in /home/dev/anaconda3/lib/python3.12/site-packages (from aiohttp<4.0.0,>=3.8.3->langchain-community) (1.2.0)\n",
      "Requirement already satisfied: attrs>=17.3.0 in /home/dev/anaconda3/lib/python3.12/site-packages (from aiohttp<4.0.0,>=3.8.3->langchain-community) (23.1.0)\n",
      "Requirement already satisfied: frozenlist>=1.1.1 in /home/dev/anaconda3/lib/python3.12/site-packages (from aiohttp<4.0.0,>=3.8.3->langchain-community) (1.4.0)\n",
      "Requirement already satisfied: multidict<7.0,>=4.5 in /home/dev/anaconda3/lib/python3.12/site-packages (from aiohttp<4.0.0,>=3.8.3->langchain-community) (6.0.4)\n",
      "Requirement already satisfied: yarl<2.0,>=1.0 in /home/dev/anaconda3/lib/python3.12/site-packages (from aiohttp<4.0.0,>=3.8.3->langchain-community) (1.11.0)\n",
      "Requirement already satisfied: marshmallow<4.0.0,>=3.18.0 in /home/dev/anaconda3/lib/python3.12/site-packages (from dataclasses-json<0.7,>=0.5.7->langchain-community) (3.24.1)\n",
      "Requirement already satisfied: typing-inspect<1,>=0.4.0 in /home/dev/anaconda3/lib/python3.12/site-packages (from dataclasses-json<0.7,>=0.5.7->langchain-community) (0.9.0)\n",
      "Requirement already satisfied: langchain-text-splitters<0.4.0,>=0.3.3 in /home/dev/anaconda3/lib/python3.12/site-packages (from langchain<0.4.0,>=0.3.14->langchain-community) (0.3.5)\n",
      "Requirement already satisfied: pydantic<3.0.0,>=2.7.4 in /home/dev/anaconda3/lib/python3.12/site-packages (from langchain<0.4.0,>=0.3.14->langchain-community) (2.8.2)\n",
      "Requirement already satisfied: jsonpatch<2.0,>=1.33 in /home/dev/anaconda3/lib/python3.12/site-packages (from langchain-core<0.4.0,>=0.3.29->langchain-community) (1.33)\n",
      "Requirement already satisfied: packaging<25,>=23.2 in /home/dev/anaconda3/lib/python3.12/site-packages (from langchain-core<0.4.0,>=0.3.29->langchain-community) (24.1)\n",
      "Requirement already satisfied: typing-extensions>=4.7 in /home/dev/anaconda3/lib/python3.12/site-packages (from langchain-core<0.4.0,>=0.3.29->langchain-community) (4.11.0)\n",
      "Requirement already satisfied: httpx<1,>=0.23.0 in /home/dev/anaconda3/lib/python3.12/site-packages (from langsmith<0.3,>=0.1.125->langchain-community) (0.27.0)\n",
      "Requirement already satisfied: orjson<4.0.0,>=3.9.14 in /home/dev/anaconda3/lib/python3.12/site-packages (from langsmith<0.3,>=0.1.125->langchain-community) (3.10.14)\n",
      "Requirement already satisfied: requests-toolbelt<2.0.0,>=1.0.0 in /home/dev/anaconda3/lib/python3.12/site-packages (from langsmith<0.3,>=0.1.125->langchain-community) (1.0.0)\n",
      "Requirement already satisfied: python-dotenv>=0.21.0 in /home/dev/anaconda3/lib/python3.12/site-packages (from pydantic-settings<3.0.0,>=2.4.0->langchain-community) (0.21.0)\n",
      "Requirement already satisfied: charset-normalizer<4,>=2 in /home/dev/anaconda3/lib/python3.12/site-packages (from requests<3,>=2->langchain-community) (3.3.2)\n",
      "Requirement already satisfied: idna<4,>=2.5 in /home/dev/anaconda3/lib/python3.12/site-packages (from requests<3,>=2->langchain-community) (3.7)\n",
      "Requirement already satisfied: urllib3<3,>=1.21.1 in /home/dev/anaconda3/lib/python3.12/site-packages (from requests<3,>=2->langchain-community) (2.2.3)\n",
      "Requirement already satisfied: certifi>=2017.4.17 in /home/dev/anaconda3/lib/python3.12/site-packages (from requests<3,>=2->langchain-community) (2024.12.14)\n",
      "Requirement already satisfied: greenlet!=0.4.17 in /home/dev/anaconda3/lib/python3.12/site-packages (from SQLAlchemy<3,>=1.4->langchain-community) (3.0.1)\n",
      "Requirement already satisfied: anyio in /home/dev/anaconda3/lib/python3.12/site-packages (from httpx<1,>=0.23.0->langsmith<0.3,>=0.1.125->langchain-community) (4.2.0)\n",
      "Requirement already satisfied: httpcore==1.* in /home/dev/anaconda3/lib/python3.12/site-packages (from httpx<1,>=0.23.0->langsmith<0.3,>=0.1.125->langchain-community) (1.0.2)\n",
      "Requirement already satisfied: sniffio in /home/dev/anaconda3/lib/python3.12/site-packages (from httpx<1,>=0.23.0->langsmith<0.3,>=0.1.125->langchain-community) (1.3.0)\n",
      "Requirement already satisfied: h11<0.15,>=0.13 in /home/dev/anaconda3/lib/python3.12/site-packages (from httpcore==1.*->httpx<1,>=0.23.0->langsmith<0.3,>=0.1.125->langchain-community) (0.14.0)\n",
      "Requirement already satisfied: jsonpointer>=1.9 in /home/dev/anaconda3/lib/python3.12/site-packages (from jsonpatch<2.0,>=1.33->langchain-core<0.4.0,>=0.3.29->langchain-community) (2.1)\n",
      "Requirement already satisfied: annotated-types>=0.4.0 in /home/dev/anaconda3/lib/python3.12/site-packages (from pydantic<3.0.0,>=2.7.4->langchain<0.4.0,>=0.3.14->langchain-community) (0.6.0)\n",
      "Requirement already satisfied: pydantic-core==2.20.1 in /home/dev/anaconda3/lib/python3.12/site-packages (from pydantic<3.0.0,>=2.7.4->langchain<0.4.0,>=0.3.14->langchain-community) (2.20.1)\n",
      "Requirement already satisfied: mypy-extensions>=0.3.0 in /home/dev/anaconda3/lib/python3.12/site-packages (from typing-inspect<1,>=0.4.0->dataclasses-json<0.7,>=0.5.7->langchain-community) (1.0.0)\n",
      "Note: you may need to restart the kernel to use updated packages.\n",
      "Requirement already satisfied: langchain-huggingface in /home/dev/anaconda3/lib/python3.12/site-packages (0.1.2)\n",
      "Requirement already satisfied: huggingface-hub>=0.23.0 in /home/dev/anaconda3/lib/python3.12/site-packages (from langchain-huggingface) (0.27.1)\n",
      "Requirement already satisfied: langchain-core<0.4.0,>=0.3.15 in /home/dev/anaconda3/lib/python3.12/site-packages (from langchain-huggingface) (0.3.29)\n",
      "Requirement already satisfied: sentence-transformers>=2.6.0 in /home/dev/anaconda3/lib/python3.12/site-packages (from langchain-huggingface) (3.3.1)\n",
      "Requirement already satisfied: tokenizers>=0.19.1 in /home/dev/anaconda3/lib/python3.12/site-packages (from langchain-huggingface) (0.20.3)\n",
      "Requirement already satisfied: transformers>=4.39.0 in /home/dev/anaconda3/lib/python3.12/site-packages (from langchain-huggingface) (4.46.3)\n",
      "Requirement already satisfied: filelock in /home/dev/anaconda3/lib/python3.12/site-packages (from huggingface-hub>=0.23.0->langchain-huggingface) (3.13.1)\n",
      "Requirement already satisfied: fsspec>=2023.5.0 in /home/dev/anaconda3/lib/python3.12/site-packages (from huggingface-hub>=0.23.0->langchain-huggingface) (2024.6.1)\n",
      "Requirement already satisfied: packaging>=20.9 in /home/dev/anaconda3/lib/python3.12/site-packages (from huggingface-hub>=0.23.0->langchain-huggingface) (24.1)\n",
      "Requirement already satisfied: pyyaml>=5.1 in /home/dev/anaconda3/lib/python3.12/site-packages (from huggingface-hub>=0.23.0->langchain-huggingface) (6.0.1)\n",
      "Requirement already satisfied: requests in /home/dev/anaconda3/lib/python3.12/site-packages (from huggingface-hub>=0.23.0->langchain-huggingface) (2.32.3)\n",
      "Requirement already satisfied: tqdm>=4.42.1 in /home/dev/anaconda3/lib/python3.12/site-packages (from huggingface-hub>=0.23.0->langchain-huggingface) (4.66.5)\n",
      "Requirement already satisfied: typing-extensions>=3.7.4.3 in /home/dev/anaconda3/lib/python3.12/site-packages (from huggingface-hub>=0.23.0->langchain-huggingface) (4.11.0)\n",
      "Requirement already satisfied: jsonpatch<2.0,>=1.33 in /home/dev/anaconda3/lib/python3.12/site-packages (from langchain-core<0.4.0,>=0.3.15->langchain-huggingface) (1.33)\n",
      "Requirement already satisfied: langsmith<0.3,>=0.1.125 in /home/dev/anaconda3/lib/python3.12/site-packages (from langchain-core<0.4.0,>=0.3.15->langchain-huggingface) (0.2.10)\n",
      "Requirement already satisfied: pydantic<3.0.0,>=2.7.4 in /home/dev/anaconda3/lib/python3.12/site-packages (from langchain-core<0.4.0,>=0.3.15->langchain-huggingface) (2.8.2)\n",
      "Requirement already satisfied: tenacity!=8.4.0,<10.0.0,>=8.1.0 in /home/dev/anaconda3/lib/python3.12/site-packages (from langchain-core<0.4.0,>=0.3.15->langchain-huggingface) (8.2.3)\n",
      "Requirement already satisfied: torch>=1.11.0 in /home/dev/anaconda3/lib/python3.12/site-packages (from sentence-transformers>=2.6.0->langchain-huggingface) (2.5.1)\n",
      "Requirement already satisfied: scikit-learn in /home/dev/anaconda3/lib/python3.12/site-packages (from sentence-transformers>=2.6.0->langchain-huggingface) (1.5.1)\n",
      "Requirement already satisfied: scipy in /home/dev/anaconda3/lib/python3.12/site-packages (from sentence-transformers>=2.6.0->langchain-huggingface) (1.13.1)\n",
      "Requirement already satisfied: Pillow in /home/dev/anaconda3/lib/python3.12/site-packages (from sentence-transformers>=2.6.0->langchain-huggingface) (10.4.0)\n",
      "Requirement already satisfied: numpy>=1.17 in /home/dev/anaconda3/lib/python3.12/site-packages (from transformers>=4.39.0->langchain-huggingface) (1.26.4)\n",
      "Requirement already satisfied: regex!=2019.12.17 in /home/dev/anaconda3/lib/python3.12/site-packages (from transformers>=4.39.0->langchain-huggingface) (2024.9.11)\n",
      "Requirement already satisfied: safetensors>=0.4.1 in /home/dev/anaconda3/lib/python3.12/site-packages (from transformers>=4.39.0->langchain-huggingface) (0.5.1)\n",
      "Requirement already satisfied: jsonpointer>=1.9 in /home/dev/anaconda3/lib/python3.12/site-packages (from jsonpatch<2.0,>=1.33->langchain-core<0.4.0,>=0.3.15->langchain-huggingface) (2.1)\n",
      "Requirement already satisfied: httpx<1,>=0.23.0 in /home/dev/anaconda3/lib/python3.12/site-packages (from langsmith<0.3,>=0.1.125->langchain-core<0.4.0,>=0.3.15->langchain-huggingface) (0.27.0)\n",
      "Requirement already satisfied: orjson<4.0.0,>=3.9.14 in /home/dev/anaconda3/lib/python3.12/site-packages (from langsmith<0.3,>=0.1.125->langchain-core<0.4.0,>=0.3.15->langchain-huggingface) (3.10.14)\n",
      "Requirement already satisfied: requests-toolbelt<2.0.0,>=1.0.0 in /home/dev/anaconda3/lib/python3.12/site-packages (from langsmith<0.3,>=0.1.125->langchain-core<0.4.0,>=0.3.15->langchain-huggingface) (1.0.0)\n",
      "Requirement already satisfied: annotated-types>=0.4.0 in /home/dev/anaconda3/lib/python3.12/site-packages (from pydantic<3.0.0,>=2.7.4->langchain-core<0.4.0,>=0.3.15->langchain-huggingface) (0.6.0)\n",
      "Requirement already satisfied: pydantic-core==2.20.1 in /home/dev/anaconda3/lib/python3.12/site-packages (from pydantic<3.0.0,>=2.7.4->langchain-core<0.4.0,>=0.3.15->langchain-huggingface) (2.20.1)\n",
      "Requirement already satisfied: charset-normalizer<4,>=2 in /home/dev/anaconda3/lib/python3.12/site-packages (from requests->huggingface-hub>=0.23.0->langchain-huggingface) (3.3.2)\n",
      "Requirement already satisfied: idna<4,>=2.5 in /home/dev/anaconda3/lib/python3.12/site-packages (from requests->huggingface-hub>=0.23.0->langchain-huggingface) (3.7)\n",
      "Requirement already satisfied: urllib3<3,>=1.21.1 in /home/dev/anaconda3/lib/python3.12/site-packages (from requests->huggingface-hub>=0.23.0->langchain-huggingface) (2.2.3)\n",
      "Requirement already satisfied: certifi>=2017.4.17 in /home/dev/anaconda3/lib/python3.12/site-packages (from requests->huggingface-hub>=0.23.0->langchain-huggingface) (2024.12.14)\n",
      "Requirement already satisfied: networkx in /home/dev/anaconda3/lib/python3.12/site-packages (from torch>=1.11.0->sentence-transformers>=2.6.0->langchain-huggingface) (3.3)\n",
      "Requirement already satisfied: jinja2 in /home/dev/anaconda3/lib/python3.12/site-packages (from torch>=1.11.0->sentence-transformers>=2.6.0->langchain-huggingface) (3.1.4)\n",
      "Requirement already satisfied: nvidia-cuda-nvrtc-cu12==12.4.127 in /home/dev/anaconda3/lib/python3.12/site-packages (from torch>=1.11.0->sentence-transformers>=2.6.0->langchain-huggingface) (12.4.127)\n",
      "Requirement already satisfied: nvidia-cuda-runtime-cu12==12.4.127 in /home/dev/anaconda3/lib/python3.12/site-packages (from torch>=1.11.0->sentence-transformers>=2.6.0->langchain-huggingface) (12.4.127)\n",
      "Requirement already satisfied: nvidia-cuda-cupti-cu12==12.4.127 in /home/dev/anaconda3/lib/python3.12/site-packages (from torch>=1.11.0->sentence-transformers>=2.6.0->langchain-huggingface) (12.4.127)\n",
      "Requirement already satisfied: nvidia-cudnn-cu12==9.1.0.70 in /home/dev/anaconda3/lib/python3.12/site-packages (from torch>=1.11.0->sentence-transformers>=2.6.0->langchain-huggingface) (9.1.0.70)\n",
      "Requirement already satisfied: nvidia-cublas-cu12==12.4.5.8 in /home/dev/anaconda3/lib/python3.12/site-packages (from torch>=1.11.0->sentence-transformers>=2.6.0->langchain-huggingface) (12.4.5.8)\n",
      "Requirement already satisfied: nvidia-cufft-cu12==11.2.1.3 in /home/dev/anaconda3/lib/python3.12/site-packages (from torch>=1.11.0->sentence-transformers>=2.6.0->langchain-huggingface) (11.2.1.3)\n",
      "Requirement already satisfied: nvidia-curand-cu12==10.3.5.147 in /home/dev/anaconda3/lib/python3.12/site-packages (from torch>=1.11.0->sentence-transformers>=2.6.0->langchain-huggingface) (10.3.5.147)\n",
      "Requirement already satisfied: nvidia-cusolver-cu12==11.6.1.9 in /home/dev/anaconda3/lib/python3.12/site-packages (from torch>=1.11.0->sentence-transformers>=2.6.0->langchain-huggingface) (11.6.1.9)\n",
      "Requirement already satisfied: nvidia-cusparse-cu12==12.3.1.170 in /home/dev/anaconda3/lib/python3.12/site-packages (from torch>=1.11.0->sentence-transformers>=2.6.0->langchain-huggingface) (12.3.1.170)\n",
      "Requirement already satisfied: nvidia-nccl-cu12==2.21.5 in /home/dev/anaconda3/lib/python3.12/site-packages (from torch>=1.11.0->sentence-transformers>=2.6.0->langchain-huggingface) (2.21.5)\n",
      "Requirement already satisfied: nvidia-nvtx-cu12==12.4.127 in /home/dev/anaconda3/lib/python3.12/site-packages (from torch>=1.11.0->sentence-transformers>=2.6.0->langchain-huggingface) (12.4.127)\n",
      "Requirement already satisfied: nvidia-nvjitlink-cu12==12.4.127 in /home/dev/anaconda3/lib/python3.12/site-packages (from torch>=1.11.0->sentence-transformers>=2.6.0->langchain-huggingface) (12.4.127)\n",
      "Requirement already satisfied: triton==3.1.0 in /home/dev/anaconda3/lib/python3.12/site-packages (from torch>=1.11.0->sentence-transformers>=2.6.0->langchain-huggingface) (3.1.0)\n",
      "Requirement already satisfied: setuptools in /home/dev/anaconda3/lib/python3.12/site-packages (from torch>=1.11.0->sentence-transformers>=2.6.0->langchain-huggingface) (75.1.0)\n",
      "Requirement already satisfied: sympy==1.13.1 in /home/dev/anaconda3/lib/python3.12/site-packages (from torch>=1.11.0->sentence-transformers>=2.6.0->langchain-huggingface) (1.13.1)\n",
      "Requirement already satisfied: mpmath<1.4,>=1.1.0 in /home/dev/anaconda3/lib/python3.12/site-packages (from sympy==1.13.1->torch>=1.11.0->sentence-transformers>=2.6.0->langchain-huggingface) (1.3.0)\n",
      "Requirement already satisfied: joblib>=1.2.0 in /home/dev/anaconda3/lib/python3.12/site-packages (from scikit-learn->sentence-transformers>=2.6.0->langchain-huggingface) (1.4.2)\n",
      "Requirement already satisfied: threadpoolctl>=3.1.0 in /home/dev/anaconda3/lib/python3.12/site-packages (from scikit-learn->sentence-transformers>=2.6.0->langchain-huggingface) (3.5.0)\n",
      "Requirement already satisfied: anyio in /home/dev/anaconda3/lib/python3.12/site-packages (from httpx<1,>=0.23.0->langsmith<0.3,>=0.1.125->langchain-core<0.4.0,>=0.3.15->langchain-huggingface) (4.2.0)\n",
      "Requirement already satisfied: httpcore==1.* in /home/dev/anaconda3/lib/python3.12/site-packages (from httpx<1,>=0.23.0->langsmith<0.3,>=0.1.125->langchain-core<0.4.0,>=0.3.15->langchain-huggingface) (1.0.2)\n",
      "Requirement already satisfied: sniffio in /home/dev/anaconda3/lib/python3.12/site-packages (from httpx<1,>=0.23.0->langsmith<0.3,>=0.1.125->langchain-core<0.4.0,>=0.3.15->langchain-huggingface) (1.3.0)\n",
      "Requirement already satisfied: h11<0.15,>=0.13 in /home/dev/anaconda3/lib/python3.12/site-packages (from httpcore==1.*->httpx<1,>=0.23.0->langsmith<0.3,>=0.1.125->langchain-core<0.4.0,>=0.3.15->langchain-huggingface) (0.14.0)\n",
      "Requirement already satisfied: MarkupSafe>=2.0 in /home/dev/anaconda3/lib/python3.12/site-packages (from jinja2->torch>=1.11.0->sentence-transformers>=2.6.0->langchain-huggingface) (2.1.3)\n",
      "Note: you may need to restart the kernel to use updated packages.\n",
      "Requirement already satisfied: langchainhub in /home/dev/anaconda3/lib/python3.12/site-packages (0.1.21)\n",
      "Requirement already satisfied: packaging<25,>=23.2 in /home/dev/anaconda3/lib/python3.12/site-packages (from langchainhub) (24.1)\n",
      "Requirement already satisfied: requests<3,>=2 in /home/dev/anaconda3/lib/python3.12/site-packages (from langchainhub) (2.32.3)\n",
      "Requirement already satisfied: types-requests<3.0.0.0,>=2.31.0.2 in /home/dev/anaconda3/lib/python3.12/site-packages (from langchainhub) (2.32.0.20241016)\n",
      "Requirement already satisfied: charset-normalizer<4,>=2 in /home/dev/anaconda3/lib/python3.12/site-packages (from requests<3,>=2->langchainhub) (3.3.2)\n",
      "Requirement already satisfied: idna<4,>=2.5 in /home/dev/anaconda3/lib/python3.12/site-packages (from requests<3,>=2->langchainhub) (3.7)\n",
      "Requirement already satisfied: urllib3<3,>=1.21.1 in /home/dev/anaconda3/lib/python3.12/site-packages (from requests<3,>=2->langchainhub) (2.2.3)\n",
      "Requirement already satisfied: certifi>=2017.4.17 in /home/dev/anaconda3/lib/python3.12/site-packages (from requests<3,>=2->langchainhub) (2024.12.14)\n",
      "Note: you may need to restart the kernel to use updated packages.\n",
      "Requirement already satisfied: langchain_chroma in /home/dev/anaconda3/lib/python3.12/site-packages (0.2.0)\n",
      "Requirement already satisfied: chromadb!=0.5.10,!=0.5.11,!=0.5.12,!=0.5.4,!=0.5.5,!=0.5.7,!=0.5.9,<0.6.0,>=0.4.0 in /home/dev/anaconda3/lib/python3.12/site-packages (from langchain_chroma) (0.5.23)\n",
      "Requirement already satisfied: fastapi<1,>=0.95.2 in /home/dev/anaconda3/lib/python3.12/site-packages (from langchain_chroma) (0.115.6)\n",
      "Requirement already satisfied: langchain-core!=0.3.0,!=0.3.1,!=0.3.10,!=0.3.11,!=0.3.12,!=0.3.13,!=0.3.14,!=0.3.2,!=0.3.3,!=0.3.4,!=0.3.5,!=0.3.6,!=0.3.7,!=0.3.8,!=0.3.9,<0.4.0,>=0.2.43 in /home/dev/anaconda3/lib/python3.12/site-packages (from langchain_chroma) (0.3.29)\n",
      "Requirement already satisfied: numpy<2.0.0,>=1.26.2 in /home/dev/anaconda3/lib/python3.12/site-packages (from langchain_chroma) (1.26.4)\n",
      "Requirement already satisfied: build>=1.0.3 in /home/dev/anaconda3/lib/python3.12/site-packages (from chromadb!=0.5.10,!=0.5.11,!=0.5.12,!=0.5.4,!=0.5.5,!=0.5.7,!=0.5.9,<0.6.0,>=0.4.0->langchain_chroma) (1.2.2.post1)\n",
      "Requirement already satisfied: pydantic>=1.9 in /home/dev/anaconda3/lib/python3.12/site-packages (from chromadb!=0.5.10,!=0.5.11,!=0.5.12,!=0.5.4,!=0.5.5,!=0.5.7,!=0.5.9,<0.6.0,>=0.4.0->langchain_chroma) (2.8.2)\n",
      "Requirement already satisfied: chroma-hnswlib==0.7.6 in /home/dev/anaconda3/lib/python3.12/site-packages (from chromadb!=0.5.10,!=0.5.11,!=0.5.12,!=0.5.4,!=0.5.5,!=0.5.7,!=0.5.9,<0.6.0,>=0.4.0->langchain_chroma) (0.7.6)\n",
      "Requirement already satisfied: uvicorn>=0.18.3 in /home/dev/anaconda3/lib/python3.12/site-packages (from uvicorn[standard]>=0.18.3->chromadb!=0.5.10,!=0.5.11,!=0.5.12,!=0.5.4,!=0.5.5,!=0.5.7,!=0.5.9,<0.6.0,>=0.4.0->langchain_chroma) (0.34.0)\n",
      "Requirement already satisfied: posthog>=2.4.0 in /home/dev/anaconda3/lib/python3.12/site-packages (from chromadb!=0.5.10,!=0.5.11,!=0.5.12,!=0.5.4,!=0.5.5,!=0.5.7,!=0.5.9,<0.6.0,>=0.4.0->langchain_chroma) (3.7.5)\n",
      "Requirement already satisfied: typing_extensions>=4.5.0 in /home/dev/anaconda3/lib/python3.12/site-packages (from chromadb!=0.5.10,!=0.5.11,!=0.5.12,!=0.5.4,!=0.5.5,!=0.5.7,!=0.5.9,<0.6.0,>=0.4.0->langchain_chroma) (4.11.0)\n",
      "Requirement already satisfied: onnxruntime>=1.14.1 in /home/dev/anaconda3/lib/python3.12/site-packages (from chromadb!=0.5.10,!=0.5.11,!=0.5.12,!=0.5.4,!=0.5.5,!=0.5.7,!=0.5.9,<0.6.0,>=0.4.0->langchain_chroma) (1.20.1)\n",
      "Requirement already satisfied: opentelemetry-api>=1.2.0 in /home/dev/anaconda3/lib/python3.12/site-packages (from chromadb!=0.5.10,!=0.5.11,!=0.5.12,!=0.5.4,!=0.5.5,!=0.5.7,!=0.5.9,<0.6.0,>=0.4.0->langchain_chroma) (1.29.0)\n",
      "Requirement already satisfied: opentelemetry-exporter-otlp-proto-grpc>=1.2.0 in /home/dev/anaconda3/lib/python3.12/site-packages (from chromadb!=0.5.10,!=0.5.11,!=0.5.12,!=0.5.4,!=0.5.5,!=0.5.7,!=0.5.9,<0.6.0,>=0.4.0->langchain_chroma) (1.29.0)\n",
      "Requirement already satisfied: opentelemetry-instrumentation-fastapi>=0.41b0 in /home/dev/anaconda3/lib/python3.12/site-packages (from chromadb!=0.5.10,!=0.5.11,!=0.5.12,!=0.5.4,!=0.5.5,!=0.5.7,!=0.5.9,<0.6.0,>=0.4.0->langchain_chroma) (0.50b0)\n",
      "Requirement already satisfied: opentelemetry-sdk>=1.2.0 in /home/dev/anaconda3/lib/python3.12/site-packages (from chromadb!=0.5.10,!=0.5.11,!=0.5.12,!=0.5.4,!=0.5.5,!=0.5.7,!=0.5.9,<0.6.0,>=0.4.0->langchain_chroma) (1.29.0)\n",
      "Requirement already satisfied: tokenizers<=0.20.3,>=0.13.2 in /home/dev/anaconda3/lib/python3.12/site-packages (from chromadb!=0.5.10,!=0.5.11,!=0.5.12,!=0.5.4,!=0.5.5,!=0.5.7,!=0.5.9,<0.6.0,>=0.4.0->langchain_chroma) (0.20.3)\n",
      "Requirement already satisfied: pypika>=0.48.9 in /home/dev/anaconda3/lib/python3.12/site-packages (from chromadb!=0.5.10,!=0.5.11,!=0.5.12,!=0.5.4,!=0.5.5,!=0.5.7,!=0.5.9,<0.6.0,>=0.4.0->langchain_chroma) (0.48.9)\n",
      "Requirement already satisfied: tqdm>=4.65.0 in /home/dev/anaconda3/lib/python3.12/site-packages (from chromadb!=0.5.10,!=0.5.11,!=0.5.12,!=0.5.4,!=0.5.5,!=0.5.7,!=0.5.9,<0.6.0,>=0.4.0->langchain_chroma) (4.66.5)\n",
      "Requirement already satisfied: overrides>=7.3.1 in /home/dev/anaconda3/lib/python3.12/site-packages (from chromadb!=0.5.10,!=0.5.11,!=0.5.12,!=0.5.4,!=0.5.5,!=0.5.7,!=0.5.9,<0.6.0,>=0.4.0->langchain_chroma) (7.4.0)\n",
      "Requirement already satisfied: importlib-resources in /home/dev/anaconda3/lib/python3.12/site-packages (from chromadb!=0.5.10,!=0.5.11,!=0.5.12,!=0.5.4,!=0.5.5,!=0.5.7,!=0.5.9,<0.6.0,>=0.4.0->langchain_chroma) (6.5.2)\n",
      "Requirement already satisfied: grpcio>=1.58.0 in /home/dev/anaconda3/lib/python3.12/site-packages (from chromadb!=0.5.10,!=0.5.11,!=0.5.12,!=0.5.4,!=0.5.5,!=0.5.7,!=0.5.9,<0.6.0,>=0.4.0->langchain_chroma) (1.69.0)\n",
      "Requirement already satisfied: bcrypt>=4.0.1 in /home/dev/anaconda3/lib/python3.12/site-packages (from chromadb!=0.5.10,!=0.5.11,!=0.5.12,!=0.5.4,!=0.5.5,!=0.5.7,!=0.5.9,<0.6.0,>=0.4.0->langchain_chroma) (4.2.1)\n",
      "Requirement already satisfied: typer>=0.9.0 in /home/dev/anaconda3/lib/python3.12/site-packages (from chromadb!=0.5.10,!=0.5.11,!=0.5.12,!=0.5.4,!=0.5.5,!=0.5.7,!=0.5.9,<0.6.0,>=0.4.0->langchain_chroma) (0.9.0)\n",
      "Requirement already satisfied: kubernetes>=28.1.0 in /home/dev/anaconda3/lib/python3.12/site-packages (from chromadb!=0.5.10,!=0.5.11,!=0.5.12,!=0.5.4,!=0.5.5,!=0.5.7,!=0.5.9,<0.6.0,>=0.4.0->langchain_chroma) (31.0.0)\n",
      "Requirement already satisfied: tenacity>=8.2.3 in /home/dev/anaconda3/lib/python3.12/site-packages (from chromadb!=0.5.10,!=0.5.11,!=0.5.12,!=0.5.4,!=0.5.5,!=0.5.7,!=0.5.9,<0.6.0,>=0.4.0->langchain_chroma) (8.2.3)\n",
      "Requirement already satisfied: PyYAML>=6.0.0 in /home/dev/anaconda3/lib/python3.12/site-packages (from chromadb!=0.5.10,!=0.5.11,!=0.5.12,!=0.5.4,!=0.5.5,!=0.5.7,!=0.5.9,<0.6.0,>=0.4.0->langchain_chroma) (6.0.1)\n",
      "Requirement already satisfied: mmh3>=4.0.1 in /home/dev/anaconda3/lib/python3.12/site-packages (from chromadb!=0.5.10,!=0.5.11,!=0.5.12,!=0.5.4,!=0.5.5,!=0.5.7,!=0.5.9,<0.6.0,>=0.4.0->langchain_chroma) (5.0.1)\n",
      "Requirement already satisfied: orjson>=3.9.12 in /home/dev/anaconda3/lib/python3.12/site-packages (from chromadb!=0.5.10,!=0.5.11,!=0.5.12,!=0.5.4,!=0.5.5,!=0.5.7,!=0.5.9,<0.6.0,>=0.4.0->langchain_chroma) (3.10.14)\n",
      "Requirement already satisfied: httpx>=0.27.0 in /home/dev/anaconda3/lib/python3.12/site-packages (from chromadb!=0.5.10,!=0.5.11,!=0.5.12,!=0.5.4,!=0.5.5,!=0.5.7,!=0.5.9,<0.6.0,>=0.4.0->langchain_chroma) (0.27.0)\n",
      "Requirement already satisfied: rich>=10.11.0 in /home/dev/anaconda3/lib/python3.12/site-packages (from chromadb!=0.5.10,!=0.5.11,!=0.5.12,!=0.5.4,!=0.5.5,!=0.5.7,!=0.5.9,<0.6.0,>=0.4.0->langchain_chroma) (13.7.1)\n",
      "Requirement already satisfied: starlette<0.42.0,>=0.40.0 in /home/dev/anaconda3/lib/python3.12/site-packages (from fastapi<1,>=0.95.2->langchain_chroma) (0.41.3)\n",
      "Requirement already satisfied: jsonpatch<2.0,>=1.33 in /home/dev/anaconda3/lib/python3.12/site-packages (from langchain-core!=0.3.0,!=0.3.1,!=0.3.10,!=0.3.11,!=0.3.12,!=0.3.13,!=0.3.14,!=0.3.2,!=0.3.3,!=0.3.4,!=0.3.5,!=0.3.6,!=0.3.7,!=0.3.8,!=0.3.9,<0.4.0,>=0.2.43->langchain_chroma) (1.33)\n",
      "Requirement already satisfied: langsmith<0.3,>=0.1.125 in /home/dev/anaconda3/lib/python3.12/site-packages (from langchain-core!=0.3.0,!=0.3.1,!=0.3.10,!=0.3.11,!=0.3.12,!=0.3.13,!=0.3.14,!=0.3.2,!=0.3.3,!=0.3.4,!=0.3.5,!=0.3.6,!=0.3.7,!=0.3.8,!=0.3.9,<0.4.0,>=0.2.43->langchain_chroma) (0.2.10)\n",
      "Requirement already satisfied: packaging<25,>=23.2 in /home/dev/anaconda3/lib/python3.12/site-packages (from langchain-core!=0.3.0,!=0.3.1,!=0.3.10,!=0.3.11,!=0.3.12,!=0.3.13,!=0.3.14,!=0.3.2,!=0.3.3,!=0.3.4,!=0.3.5,!=0.3.6,!=0.3.7,!=0.3.8,!=0.3.9,<0.4.0,>=0.2.43->langchain_chroma) (24.1)\n",
      "Requirement already satisfied: pyproject_hooks in /home/dev/anaconda3/lib/python3.12/site-packages (from build>=1.0.3->chromadb!=0.5.10,!=0.5.11,!=0.5.12,!=0.5.4,!=0.5.5,!=0.5.7,!=0.5.9,<0.6.0,>=0.4.0->langchain_chroma) (1.2.0)\n",
      "Requirement already satisfied: anyio in /home/dev/anaconda3/lib/python3.12/site-packages (from httpx>=0.27.0->chromadb!=0.5.10,!=0.5.11,!=0.5.12,!=0.5.4,!=0.5.5,!=0.5.7,!=0.5.9,<0.6.0,>=0.4.0->langchain_chroma) (4.2.0)\n",
      "Requirement already satisfied: certifi in /home/dev/anaconda3/lib/python3.12/site-packages (from httpx>=0.27.0->chromadb!=0.5.10,!=0.5.11,!=0.5.12,!=0.5.4,!=0.5.5,!=0.5.7,!=0.5.9,<0.6.0,>=0.4.0->langchain_chroma) (2024.12.14)\n",
      "Requirement already satisfied: httpcore==1.* in /home/dev/anaconda3/lib/python3.12/site-packages (from httpx>=0.27.0->chromadb!=0.5.10,!=0.5.11,!=0.5.12,!=0.5.4,!=0.5.5,!=0.5.7,!=0.5.9,<0.6.0,>=0.4.0->langchain_chroma) (1.0.2)\n",
      "Requirement already satisfied: idna in /home/dev/anaconda3/lib/python3.12/site-packages (from httpx>=0.27.0->chromadb!=0.5.10,!=0.5.11,!=0.5.12,!=0.5.4,!=0.5.5,!=0.5.7,!=0.5.9,<0.6.0,>=0.4.0->langchain_chroma) (3.7)\n",
      "Requirement already satisfied: sniffio in /home/dev/anaconda3/lib/python3.12/site-packages (from httpx>=0.27.0->chromadb!=0.5.10,!=0.5.11,!=0.5.12,!=0.5.4,!=0.5.5,!=0.5.7,!=0.5.9,<0.6.0,>=0.4.0->langchain_chroma) (1.3.0)\n",
      "Requirement already satisfied: h11<0.15,>=0.13 in /home/dev/anaconda3/lib/python3.12/site-packages (from httpcore==1.*->httpx>=0.27.0->chromadb!=0.5.10,!=0.5.11,!=0.5.12,!=0.5.4,!=0.5.5,!=0.5.7,!=0.5.9,<0.6.0,>=0.4.0->langchain_chroma) (0.14.0)\n",
      "Requirement already satisfied: jsonpointer>=1.9 in /home/dev/anaconda3/lib/python3.12/site-packages (from jsonpatch<2.0,>=1.33->langchain-core!=0.3.0,!=0.3.1,!=0.3.10,!=0.3.11,!=0.3.12,!=0.3.13,!=0.3.14,!=0.3.2,!=0.3.3,!=0.3.4,!=0.3.5,!=0.3.6,!=0.3.7,!=0.3.8,!=0.3.9,<0.4.0,>=0.2.43->langchain_chroma) (2.1)\n",
      "Requirement already satisfied: six>=1.9.0 in /home/dev/anaconda3/lib/python3.12/site-packages (from kubernetes>=28.1.0->chromadb!=0.5.10,!=0.5.11,!=0.5.12,!=0.5.4,!=0.5.5,!=0.5.7,!=0.5.9,<0.6.0,>=0.4.0->langchain_chroma) (1.16.0)\n",
      "Requirement already satisfied: python-dateutil>=2.5.3 in /home/dev/anaconda3/lib/python3.12/site-packages (from kubernetes>=28.1.0->chromadb!=0.5.10,!=0.5.11,!=0.5.12,!=0.5.4,!=0.5.5,!=0.5.7,!=0.5.9,<0.6.0,>=0.4.0->langchain_chroma) (2.9.0.post0)\n",
      "Requirement already satisfied: google-auth>=1.0.1 in /home/dev/anaconda3/lib/python3.12/site-packages (from kubernetes>=28.1.0->chromadb!=0.5.10,!=0.5.11,!=0.5.12,!=0.5.4,!=0.5.5,!=0.5.7,!=0.5.9,<0.6.0,>=0.4.0->langchain_chroma) (2.37.0)\n",
      "Requirement already satisfied: websocket-client!=0.40.0,!=0.41.*,!=0.42.*,>=0.32.0 in /home/dev/anaconda3/lib/python3.12/site-packages (from kubernetes>=28.1.0->chromadb!=0.5.10,!=0.5.11,!=0.5.12,!=0.5.4,!=0.5.5,!=0.5.7,!=0.5.9,<0.6.0,>=0.4.0->langchain_chroma) (1.8.0)\n",
      "Requirement already satisfied: requests in /home/dev/anaconda3/lib/python3.12/site-packages (from kubernetes>=28.1.0->chromadb!=0.5.10,!=0.5.11,!=0.5.12,!=0.5.4,!=0.5.5,!=0.5.7,!=0.5.9,<0.6.0,>=0.4.0->langchain_chroma) (2.32.3)\n",
      "Requirement already satisfied: requests-oauthlib in /home/dev/anaconda3/lib/python3.12/site-packages (from kubernetes>=28.1.0->chromadb!=0.5.10,!=0.5.11,!=0.5.12,!=0.5.4,!=0.5.5,!=0.5.7,!=0.5.9,<0.6.0,>=0.4.0->langchain_chroma) (2.0.0)\n",
      "Requirement already satisfied: oauthlib>=3.2.2 in /home/dev/anaconda3/lib/python3.12/site-packages (from kubernetes>=28.1.0->chromadb!=0.5.10,!=0.5.11,!=0.5.12,!=0.5.4,!=0.5.5,!=0.5.7,!=0.5.9,<0.6.0,>=0.4.0->langchain_chroma) (3.2.2)\n",
      "Requirement already satisfied: urllib3>=1.24.2 in /home/dev/anaconda3/lib/python3.12/site-packages (from kubernetes>=28.1.0->chromadb!=0.5.10,!=0.5.11,!=0.5.12,!=0.5.4,!=0.5.5,!=0.5.7,!=0.5.9,<0.6.0,>=0.4.0->langchain_chroma) (2.2.3)\n",
      "Requirement already satisfied: durationpy>=0.7 in /home/dev/anaconda3/lib/python3.12/site-packages (from kubernetes>=28.1.0->chromadb!=0.5.10,!=0.5.11,!=0.5.12,!=0.5.4,!=0.5.5,!=0.5.7,!=0.5.9,<0.6.0,>=0.4.0->langchain_chroma) (0.9)\n",
      "Requirement already satisfied: requests-toolbelt<2.0.0,>=1.0.0 in /home/dev/anaconda3/lib/python3.12/site-packages (from langsmith<0.3,>=0.1.125->langchain-core!=0.3.0,!=0.3.1,!=0.3.10,!=0.3.11,!=0.3.12,!=0.3.13,!=0.3.14,!=0.3.2,!=0.3.3,!=0.3.4,!=0.3.5,!=0.3.6,!=0.3.7,!=0.3.8,!=0.3.9,<0.4.0,>=0.2.43->langchain_chroma) (1.0.0)\n",
      "Requirement already satisfied: coloredlogs in /home/dev/anaconda3/lib/python3.12/site-packages (from onnxruntime>=1.14.1->chromadb!=0.5.10,!=0.5.11,!=0.5.12,!=0.5.4,!=0.5.5,!=0.5.7,!=0.5.9,<0.6.0,>=0.4.0->langchain_chroma) (15.0.1)\n",
      "Requirement already satisfied: flatbuffers in /home/dev/anaconda3/lib/python3.12/site-packages (from onnxruntime>=1.14.1->chromadb!=0.5.10,!=0.5.11,!=0.5.12,!=0.5.4,!=0.5.5,!=0.5.7,!=0.5.9,<0.6.0,>=0.4.0->langchain_chroma) (24.12.23)\n",
      "Requirement already satisfied: protobuf in /home/dev/anaconda3/lib/python3.12/site-packages (from onnxruntime>=1.14.1->chromadb!=0.5.10,!=0.5.11,!=0.5.12,!=0.5.4,!=0.5.5,!=0.5.7,!=0.5.9,<0.6.0,>=0.4.0->langchain_chroma) (5.29.2)\n",
      "Requirement already satisfied: sympy in /home/dev/anaconda3/lib/python3.12/site-packages (from onnxruntime>=1.14.1->chromadb!=0.5.10,!=0.5.11,!=0.5.12,!=0.5.4,!=0.5.5,!=0.5.7,!=0.5.9,<0.6.0,>=0.4.0->langchain_chroma) (1.13.1)\n",
      "Requirement already satisfied: deprecated>=1.2.6 in /home/dev/anaconda3/lib/python3.12/site-packages (from opentelemetry-api>=1.2.0->chromadb!=0.5.10,!=0.5.11,!=0.5.12,!=0.5.4,!=0.5.5,!=0.5.7,!=0.5.9,<0.6.0,>=0.4.0->langchain_chroma) (1.2.15)\n",
      "Requirement already satisfied: importlib-metadata<=8.5.0,>=6.0 in /home/dev/anaconda3/lib/python3.12/site-packages (from opentelemetry-api>=1.2.0->chromadb!=0.5.10,!=0.5.11,!=0.5.12,!=0.5.4,!=0.5.5,!=0.5.7,!=0.5.9,<0.6.0,>=0.4.0->langchain_chroma) (7.0.1)\n",
      "Requirement already satisfied: googleapis-common-protos~=1.52 in /home/dev/anaconda3/lib/python3.12/site-packages (from opentelemetry-exporter-otlp-proto-grpc>=1.2.0->chromadb!=0.5.10,!=0.5.11,!=0.5.12,!=0.5.4,!=0.5.5,!=0.5.7,!=0.5.9,<0.6.0,>=0.4.0->langchain_chroma) (1.66.0)\n",
      "Requirement already satisfied: opentelemetry-exporter-otlp-proto-common==1.29.0 in /home/dev/anaconda3/lib/python3.12/site-packages (from opentelemetry-exporter-otlp-proto-grpc>=1.2.0->chromadb!=0.5.10,!=0.5.11,!=0.5.12,!=0.5.4,!=0.5.5,!=0.5.7,!=0.5.9,<0.6.0,>=0.4.0->langchain_chroma) (1.29.0)\n",
      "Requirement already satisfied: opentelemetry-proto==1.29.0 in /home/dev/anaconda3/lib/python3.12/site-packages (from opentelemetry-exporter-otlp-proto-grpc>=1.2.0->chromadb!=0.5.10,!=0.5.11,!=0.5.12,!=0.5.4,!=0.5.5,!=0.5.7,!=0.5.9,<0.6.0,>=0.4.0->langchain_chroma) (1.29.0)\n",
      "Requirement already satisfied: opentelemetry-instrumentation-asgi==0.50b0 in /home/dev/anaconda3/lib/python3.12/site-packages (from opentelemetry-instrumentation-fastapi>=0.41b0->chromadb!=0.5.10,!=0.5.11,!=0.5.12,!=0.5.4,!=0.5.5,!=0.5.7,!=0.5.9,<0.6.0,>=0.4.0->langchain_chroma) (0.50b0)\n",
      "Requirement already satisfied: opentelemetry-instrumentation==0.50b0 in /home/dev/anaconda3/lib/python3.12/site-packages (from opentelemetry-instrumentation-fastapi>=0.41b0->chromadb!=0.5.10,!=0.5.11,!=0.5.12,!=0.5.4,!=0.5.5,!=0.5.7,!=0.5.9,<0.6.0,>=0.4.0->langchain_chroma) (0.50b0)\n",
      "Requirement already satisfied: opentelemetry-semantic-conventions==0.50b0 in /home/dev/anaconda3/lib/python3.12/site-packages (from opentelemetry-instrumentation-fastapi>=0.41b0->chromadb!=0.5.10,!=0.5.11,!=0.5.12,!=0.5.4,!=0.5.5,!=0.5.7,!=0.5.9,<0.6.0,>=0.4.0->langchain_chroma) (0.50b0)\n",
      "Requirement already satisfied: opentelemetry-util-http==0.50b0 in /home/dev/anaconda3/lib/python3.12/site-packages (from opentelemetry-instrumentation-fastapi>=0.41b0->chromadb!=0.5.10,!=0.5.11,!=0.5.12,!=0.5.4,!=0.5.5,!=0.5.7,!=0.5.9,<0.6.0,>=0.4.0->langchain_chroma) (0.50b0)\n",
      "Requirement already satisfied: wrapt<2.0.0,>=1.0.0 in /home/dev/anaconda3/lib/python3.12/site-packages (from opentelemetry-instrumentation==0.50b0->opentelemetry-instrumentation-fastapi>=0.41b0->chromadb!=0.5.10,!=0.5.11,!=0.5.12,!=0.5.4,!=0.5.5,!=0.5.7,!=0.5.9,<0.6.0,>=0.4.0->langchain_chroma) (1.14.1)\n",
      "Requirement already satisfied: asgiref~=3.0 in /home/dev/anaconda3/lib/python3.12/site-packages (from opentelemetry-instrumentation-asgi==0.50b0->opentelemetry-instrumentation-fastapi>=0.41b0->chromadb!=0.5.10,!=0.5.11,!=0.5.12,!=0.5.4,!=0.5.5,!=0.5.7,!=0.5.9,<0.6.0,>=0.4.0->langchain_chroma) (3.8.1)\n",
      "Requirement already satisfied: monotonic>=1.5 in /home/dev/anaconda3/lib/python3.12/site-packages (from posthog>=2.4.0->chromadb!=0.5.10,!=0.5.11,!=0.5.12,!=0.5.4,!=0.5.5,!=0.5.7,!=0.5.9,<0.6.0,>=0.4.0->langchain_chroma) (1.6)\n",
      "Requirement already satisfied: backoff>=1.10.0 in /home/dev/anaconda3/lib/python3.12/site-packages (from posthog>=2.4.0->chromadb!=0.5.10,!=0.5.11,!=0.5.12,!=0.5.4,!=0.5.5,!=0.5.7,!=0.5.9,<0.6.0,>=0.4.0->langchain_chroma) (2.2.1)\n",
      "Requirement already satisfied: annotated-types>=0.4.0 in /home/dev/anaconda3/lib/python3.12/site-packages (from pydantic>=1.9->chromadb!=0.5.10,!=0.5.11,!=0.5.12,!=0.5.4,!=0.5.5,!=0.5.7,!=0.5.9,<0.6.0,>=0.4.0->langchain_chroma) (0.6.0)\n",
      "Requirement already satisfied: pydantic-core==2.20.1 in /home/dev/anaconda3/lib/python3.12/site-packages (from pydantic>=1.9->chromadb!=0.5.10,!=0.5.11,!=0.5.12,!=0.5.4,!=0.5.5,!=0.5.7,!=0.5.9,<0.6.0,>=0.4.0->langchain_chroma) (2.20.1)\n",
      "Requirement already satisfied: markdown-it-py>=2.2.0 in /home/dev/anaconda3/lib/python3.12/site-packages (from rich>=10.11.0->chromadb!=0.5.10,!=0.5.11,!=0.5.12,!=0.5.4,!=0.5.5,!=0.5.7,!=0.5.9,<0.6.0,>=0.4.0->langchain_chroma) (2.2.0)\n",
      "Requirement already satisfied: pygments<3.0.0,>=2.13.0 in /home/dev/anaconda3/lib/python3.12/site-packages (from rich>=10.11.0->chromadb!=0.5.10,!=0.5.11,!=0.5.12,!=0.5.4,!=0.5.5,!=0.5.7,!=0.5.9,<0.6.0,>=0.4.0->langchain_chroma) (2.15.1)\n",
      "Requirement already satisfied: huggingface-hub<1.0,>=0.16.4 in /home/dev/anaconda3/lib/python3.12/site-packages (from tokenizers<=0.20.3,>=0.13.2->chromadb!=0.5.10,!=0.5.11,!=0.5.12,!=0.5.4,!=0.5.5,!=0.5.7,!=0.5.9,<0.6.0,>=0.4.0->langchain_chroma) (0.27.1)\n",
      "Requirement already satisfied: click<9.0.0,>=7.1.1 in /home/dev/anaconda3/lib/python3.12/site-packages (from typer>=0.9.0->chromadb!=0.5.10,!=0.5.11,!=0.5.12,!=0.5.4,!=0.5.5,!=0.5.7,!=0.5.9,<0.6.0,>=0.4.0->langchain_chroma) (8.1.7)\n",
      "Requirement already satisfied: httptools>=0.6.3 in /home/dev/anaconda3/lib/python3.12/site-packages (from uvicorn[standard]>=0.18.3->chromadb!=0.5.10,!=0.5.11,!=0.5.12,!=0.5.4,!=0.5.5,!=0.5.7,!=0.5.9,<0.6.0,>=0.4.0->langchain_chroma) (0.6.4)\n",
      "Requirement already satisfied: python-dotenv>=0.13 in /home/dev/anaconda3/lib/python3.12/site-packages (from uvicorn[standard]>=0.18.3->chromadb!=0.5.10,!=0.5.11,!=0.5.12,!=0.5.4,!=0.5.5,!=0.5.7,!=0.5.9,<0.6.0,>=0.4.0->langchain_chroma) (0.21.0)\n",
      "Requirement already satisfied: uvloop!=0.15.0,!=0.15.1,>=0.14.0 in /home/dev/anaconda3/lib/python3.12/site-packages (from uvicorn[standard]>=0.18.3->chromadb!=0.5.10,!=0.5.11,!=0.5.12,!=0.5.4,!=0.5.5,!=0.5.7,!=0.5.9,<0.6.0,>=0.4.0->langchain_chroma) (0.21.0)\n",
      "Requirement already satisfied: watchfiles>=0.13 in /home/dev/anaconda3/lib/python3.12/site-packages (from uvicorn[standard]>=0.18.3->chromadb!=0.5.10,!=0.5.11,!=0.5.12,!=0.5.4,!=0.5.5,!=0.5.7,!=0.5.9,<0.6.0,>=0.4.0->langchain_chroma) (1.0.3)\n",
      "Requirement already satisfied: websockets>=10.4 in /home/dev/anaconda3/lib/python3.12/site-packages (from uvicorn[standard]>=0.18.3->chromadb!=0.5.10,!=0.5.11,!=0.5.12,!=0.5.4,!=0.5.5,!=0.5.7,!=0.5.9,<0.6.0,>=0.4.0->langchain_chroma) (14.1)\n",
      "Requirement already satisfied: cachetools<6.0,>=2.0.0 in /home/dev/anaconda3/lib/python3.12/site-packages (from google-auth>=1.0.1->kubernetes>=28.1.0->chromadb!=0.5.10,!=0.5.11,!=0.5.12,!=0.5.4,!=0.5.5,!=0.5.7,!=0.5.9,<0.6.0,>=0.4.0->langchain_chroma) (5.3.3)\n",
      "Requirement already satisfied: pyasn1-modules>=0.2.1 in /home/dev/anaconda3/lib/python3.12/site-packages (from google-auth>=1.0.1->kubernetes>=28.1.0->chromadb!=0.5.10,!=0.5.11,!=0.5.12,!=0.5.4,!=0.5.5,!=0.5.7,!=0.5.9,<0.6.0,>=0.4.0->langchain_chroma) (0.2.8)\n",
      "Requirement already satisfied: rsa<5,>=3.1.4 in /home/dev/anaconda3/lib/python3.12/site-packages (from google-auth>=1.0.1->kubernetes>=28.1.0->chromadb!=0.5.10,!=0.5.11,!=0.5.12,!=0.5.4,!=0.5.5,!=0.5.7,!=0.5.9,<0.6.0,>=0.4.0->langchain_chroma) (4.9)\n",
      "Requirement already satisfied: filelock in /home/dev/anaconda3/lib/python3.12/site-packages (from huggingface-hub<1.0,>=0.16.4->tokenizers<=0.20.3,>=0.13.2->chromadb!=0.5.10,!=0.5.11,!=0.5.12,!=0.5.4,!=0.5.5,!=0.5.7,!=0.5.9,<0.6.0,>=0.4.0->langchain_chroma) (3.13.1)\n",
      "Requirement already satisfied: fsspec>=2023.5.0 in /home/dev/anaconda3/lib/python3.12/site-packages (from huggingface-hub<1.0,>=0.16.4->tokenizers<=0.20.3,>=0.13.2->chromadb!=0.5.10,!=0.5.11,!=0.5.12,!=0.5.4,!=0.5.5,!=0.5.7,!=0.5.9,<0.6.0,>=0.4.0->langchain_chroma) (2024.6.1)\n",
      "Requirement already satisfied: zipp>=0.5 in /home/dev/anaconda3/lib/python3.12/site-packages (from importlib-metadata<=8.5.0,>=6.0->opentelemetry-api>=1.2.0->chromadb!=0.5.10,!=0.5.11,!=0.5.12,!=0.5.4,!=0.5.5,!=0.5.7,!=0.5.9,<0.6.0,>=0.4.0->langchain_chroma) (3.17.0)\n",
      "Requirement already satisfied: mdurl~=0.1 in /home/dev/anaconda3/lib/python3.12/site-packages (from markdown-it-py>=2.2.0->rich>=10.11.0->chromadb!=0.5.10,!=0.5.11,!=0.5.12,!=0.5.4,!=0.5.5,!=0.5.7,!=0.5.9,<0.6.0,>=0.4.0->langchain_chroma) (0.1.0)\n",
      "Requirement already satisfied: charset-normalizer<4,>=2 in /home/dev/anaconda3/lib/python3.12/site-packages (from requests->kubernetes>=28.1.0->chromadb!=0.5.10,!=0.5.11,!=0.5.12,!=0.5.4,!=0.5.5,!=0.5.7,!=0.5.9,<0.6.0,>=0.4.0->langchain_chroma) (3.3.2)\n",
      "Requirement already satisfied: humanfriendly>=9.1 in /home/dev/anaconda3/lib/python3.12/site-packages (from coloredlogs->onnxruntime>=1.14.1->chromadb!=0.5.10,!=0.5.11,!=0.5.12,!=0.5.4,!=0.5.5,!=0.5.7,!=0.5.9,<0.6.0,>=0.4.0->langchain_chroma) (10.0)\n",
      "Requirement already satisfied: mpmath<1.4,>=1.1.0 in /home/dev/anaconda3/lib/python3.12/site-packages (from sympy->onnxruntime>=1.14.1->chromadb!=0.5.10,!=0.5.11,!=0.5.12,!=0.5.4,!=0.5.5,!=0.5.7,!=0.5.9,<0.6.0,>=0.4.0->langchain_chroma) (1.3.0)\n",
      "Requirement already satisfied: pyasn1<0.5.0,>=0.4.6 in /home/dev/anaconda3/lib/python3.12/site-packages (from pyasn1-modules>=0.2.1->google-auth>=1.0.1->kubernetes>=28.1.0->chromadb!=0.5.10,!=0.5.11,!=0.5.12,!=0.5.4,!=0.5.5,!=0.5.7,!=0.5.9,<0.6.0,>=0.4.0->langchain_chroma) (0.4.8)\n",
      "Note: you may need to restart the kernel to use updated packages.\n",
      "Requirement already satisfied: tokenizers==0.20.3 in /home/dev/anaconda3/lib/python3.12/site-packages (0.20.3)\n",
      "Requirement already satisfied: huggingface-hub<1.0,>=0.16.4 in /home/dev/anaconda3/lib/python3.12/site-packages (from tokenizers==0.20.3) (0.27.1)\n",
      "Requirement already satisfied: filelock in /home/dev/anaconda3/lib/python3.12/site-packages (from huggingface-hub<1.0,>=0.16.4->tokenizers==0.20.3) (3.13.1)\n",
      "Requirement already satisfied: fsspec>=2023.5.0 in /home/dev/anaconda3/lib/python3.12/site-packages (from huggingface-hub<1.0,>=0.16.4->tokenizers==0.20.3) (2024.6.1)\n",
      "Requirement already satisfied: packaging>=20.9 in /home/dev/anaconda3/lib/python3.12/site-packages (from huggingface-hub<1.0,>=0.16.4->tokenizers==0.20.3) (24.1)\n",
      "Requirement already satisfied: pyyaml>=5.1 in /home/dev/anaconda3/lib/python3.12/site-packages (from huggingface-hub<1.0,>=0.16.4->tokenizers==0.20.3) (6.0.1)\n",
      "Requirement already satisfied: requests in /home/dev/anaconda3/lib/python3.12/site-packages (from huggingface-hub<1.0,>=0.16.4->tokenizers==0.20.3) (2.32.3)\n",
      "Requirement already satisfied: tqdm>=4.42.1 in /home/dev/anaconda3/lib/python3.12/site-packages (from huggingface-hub<1.0,>=0.16.4->tokenizers==0.20.3) (4.66.5)\n",
      "Requirement already satisfied: typing-extensions>=3.7.4.3 in /home/dev/anaconda3/lib/python3.12/site-packages (from huggingface-hub<1.0,>=0.16.4->tokenizers==0.20.3) (4.11.0)\n",
      "Requirement already satisfied: charset-normalizer<4,>=2 in /home/dev/anaconda3/lib/python3.12/site-packages (from requests->huggingface-hub<1.0,>=0.16.4->tokenizers==0.20.3) (3.3.2)\n",
      "Requirement already satisfied: idna<4,>=2.5 in /home/dev/anaconda3/lib/python3.12/site-packages (from requests->huggingface-hub<1.0,>=0.16.4->tokenizers==0.20.3) (3.7)\n",
      "Requirement already satisfied: urllib3<3,>=1.21.1 in /home/dev/anaconda3/lib/python3.12/site-packages (from requests->huggingface-hub<1.0,>=0.16.4->tokenizers==0.20.3) (2.2.3)\n",
      "Requirement already satisfied: certifi>=2017.4.17 in /home/dev/anaconda3/lib/python3.12/site-packages (from requests->huggingface-hub<1.0,>=0.16.4->tokenizers==0.20.3) (2024.12.14)\n",
      "Note: you may need to restart the kernel to use updated packages.\n",
      "Requirement already satisfied: transformers==4.46.3 in /home/dev/anaconda3/lib/python3.12/site-packages (4.46.3)\n",
      "Requirement already satisfied: filelock in /home/dev/anaconda3/lib/python3.12/site-packages (from transformers==4.46.3) (3.13.1)\n",
      "Requirement already satisfied: huggingface-hub<1.0,>=0.23.2 in /home/dev/anaconda3/lib/python3.12/site-packages (from transformers==4.46.3) (0.27.1)\n",
      "Requirement already satisfied: numpy>=1.17 in /home/dev/anaconda3/lib/python3.12/site-packages (from transformers==4.46.3) (1.26.4)\n",
      "Requirement already satisfied: packaging>=20.0 in /home/dev/anaconda3/lib/python3.12/site-packages (from transformers==4.46.3) (24.1)\n",
      "Requirement already satisfied: pyyaml>=5.1 in /home/dev/anaconda3/lib/python3.12/site-packages (from transformers==4.46.3) (6.0.1)\n",
      "Requirement already satisfied: regex!=2019.12.17 in /home/dev/anaconda3/lib/python3.12/site-packages (from transformers==4.46.3) (2024.9.11)\n",
      "Requirement already satisfied: requests in /home/dev/anaconda3/lib/python3.12/site-packages (from transformers==4.46.3) (2.32.3)\n",
      "Requirement already satisfied: tokenizers<0.21,>=0.20 in /home/dev/anaconda3/lib/python3.12/site-packages (from transformers==4.46.3) (0.20.3)\n",
      "Requirement already satisfied: safetensors>=0.4.1 in /home/dev/anaconda3/lib/python3.12/site-packages (from transformers==4.46.3) (0.5.1)\n",
      "Requirement already satisfied: tqdm>=4.27 in /home/dev/anaconda3/lib/python3.12/site-packages (from transformers==4.46.3) (4.66.5)\n",
      "Requirement already satisfied: fsspec>=2023.5.0 in /home/dev/anaconda3/lib/python3.12/site-packages (from huggingface-hub<1.0,>=0.23.2->transformers==4.46.3) (2024.6.1)\n",
      "Requirement already satisfied: typing-extensions>=3.7.4.3 in /home/dev/anaconda3/lib/python3.12/site-packages (from huggingface-hub<1.0,>=0.23.2->transformers==4.46.3) (4.11.0)\n",
      "Requirement already satisfied: charset-normalizer<4,>=2 in /home/dev/anaconda3/lib/python3.12/site-packages (from requests->transformers==4.46.3) (3.3.2)\n",
      "Requirement already satisfied: idna<4,>=2.5 in /home/dev/anaconda3/lib/python3.12/site-packages (from requests->transformers==4.46.3) (3.7)\n",
      "Requirement already satisfied: urllib3<3,>=1.21.1 in /home/dev/anaconda3/lib/python3.12/site-packages (from requests->transformers==4.46.3) (2.2.3)\n",
      "Requirement already satisfied: certifi>=2017.4.17 in /home/dev/anaconda3/lib/python3.12/site-packages (from requests->transformers==4.46.3) (2024.12.14)\n",
      "Note: you may need to restart the kernel to use updated packages.\n",
      "Requirement already satisfied: chromadb==0.5.23 in /home/dev/anaconda3/lib/python3.12/site-packages (0.5.23)\n",
      "Requirement already satisfied: build>=1.0.3 in /home/dev/anaconda3/lib/python3.12/site-packages (from chromadb==0.5.23) (1.2.2.post1)\n",
      "Requirement already satisfied: pydantic>=1.9 in /home/dev/anaconda3/lib/python3.12/site-packages (from chromadb==0.5.23) (2.8.2)\n",
      "Requirement already satisfied: chroma-hnswlib==0.7.6 in /home/dev/anaconda3/lib/python3.12/site-packages (from chromadb==0.5.23) (0.7.6)\n",
      "Requirement already satisfied: fastapi>=0.95.2 in /home/dev/anaconda3/lib/python3.12/site-packages (from chromadb==0.5.23) (0.115.6)\n",
      "Requirement already satisfied: uvicorn>=0.18.3 in /home/dev/anaconda3/lib/python3.12/site-packages (from uvicorn[standard]>=0.18.3->chromadb==0.5.23) (0.34.0)\n",
      "Requirement already satisfied: numpy>=1.22.5 in /home/dev/anaconda3/lib/python3.12/site-packages (from chromadb==0.5.23) (1.26.4)\n",
      "Requirement already satisfied: posthog>=2.4.0 in /home/dev/anaconda3/lib/python3.12/site-packages (from chromadb==0.5.23) (3.7.5)\n",
      "Requirement already satisfied: typing_extensions>=4.5.0 in /home/dev/anaconda3/lib/python3.12/site-packages (from chromadb==0.5.23) (4.11.0)\n",
      "Requirement already satisfied: onnxruntime>=1.14.1 in /home/dev/anaconda3/lib/python3.12/site-packages (from chromadb==0.5.23) (1.20.1)\n",
      "Requirement already satisfied: opentelemetry-api>=1.2.0 in /home/dev/anaconda3/lib/python3.12/site-packages (from chromadb==0.5.23) (1.29.0)\n",
      "Requirement already satisfied: opentelemetry-exporter-otlp-proto-grpc>=1.2.0 in /home/dev/anaconda3/lib/python3.12/site-packages (from chromadb==0.5.23) (1.29.0)\n",
      "Requirement already satisfied: opentelemetry-instrumentation-fastapi>=0.41b0 in /home/dev/anaconda3/lib/python3.12/site-packages (from chromadb==0.5.23) (0.50b0)\n",
      "Requirement already satisfied: opentelemetry-sdk>=1.2.0 in /home/dev/anaconda3/lib/python3.12/site-packages (from chromadb==0.5.23) (1.29.0)\n",
      "Requirement already satisfied: tokenizers<=0.20.3,>=0.13.2 in /home/dev/anaconda3/lib/python3.12/site-packages (from chromadb==0.5.23) (0.20.3)\n",
      "Requirement already satisfied: pypika>=0.48.9 in /home/dev/anaconda3/lib/python3.12/site-packages (from chromadb==0.5.23) (0.48.9)\n",
      "Requirement already satisfied: tqdm>=4.65.0 in /home/dev/anaconda3/lib/python3.12/site-packages (from chromadb==0.5.23) (4.66.5)\n",
      "Requirement already satisfied: overrides>=7.3.1 in /home/dev/anaconda3/lib/python3.12/site-packages (from chromadb==0.5.23) (7.4.0)\n",
      "Requirement already satisfied: importlib-resources in /home/dev/anaconda3/lib/python3.12/site-packages (from chromadb==0.5.23) (6.5.2)\n",
      "Requirement already satisfied: grpcio>=1.58.0 in /home/dev/anaconda3/lib/python3.12/site-packages (from chromadb==0.5.23) (1.69.0)\n",
      "Requirement already satisfied: bcrypt>=4.0.1 in /home/dev/anaconda3/lib/python3.12/site-packages (from chromadb==0.5.23) (4.2.1)\n",
      "Requirement already satisfied: typer>=0.9.0 in /home/dev/anaconda3/lib/python3.12/site-packages (from chromadb==0.5.23) (0.9.0)\n",
      "Requirement already satisfied: kubernetes>=28.1.0 in /home/dev/anaconda3/lib/python3.12/site-packages (from chromadb==0.5.23) (31.0.0)\n",
      "Requirement already satisfied: tenacity>=8.2.3 in /home/dev/anaconda3/lib/python3.12/site-packages (from chromadb==0.5.23) (8.2.3)\n",
      "Requirement already satisfied: PyYAML>=6.0.0 in /home/dev/anaconda3/lib/python3.12/site-packages (from chromadb==0.5.23) (6.0.1)\n",
      "Requirement already satisfied: mmh3>=4.0.1 in /home/dev/anaconda3/lib/python3.12/site-packages (from chromadb==0.5.23) (5.0.1)\n",
      "Requirement already satisfied: orjson>=3.9.12 in /home/dev/anaconda3/lib/python3.12/site-packages (from chromadb==0.5.23) (3.10.14)\n",
      "Requirement already satisfied: httpx>=0.27.0 in /home/dev/anaconda3/lib/python3.12/site-packages (from chromadb==0.5.23) (0.27.0)\n",
      "Requirement already satisfied: rich>=10.11.0 in /home/dev/anaconda3/lib/python3.12/site-packages (from chromadb==0.5.23) (13.7.1)\n",
      "Requirement already satisfied: packaging>=19.1 in /home/dev/anaconda3/lib/python3.12/site-packages (from build>=1.0.3->chromadb==0.5.23) (24.1)\n",
      "Requirement already satisfied: pyproject_hooks in /home/dev/anaconda3/lib/python3.12/site-packages (from build>=1.0.3->chromadb==0.5.23) (1.2.0)\n",
      "Requirement already satisfied: starlette<0.42.0,>=0.40.0 in /home/dev/anaconda3/lib/python3.12/site-packages (from fastapi>=0.95.2->chromadb==0.5.23) (0.41.3)\n",
      "Requirement already satisfied: anyio in /home/dev/anaconda3/lib/python3.12/site-packages (from httpx>=0.27.0->chromadb==0.5.23) (4.2.0)\n",
      "Requirement already satisfied: certifi in /home/dev/anaconda3/lib/python3.12/site-packages (from httpx>=0.27.0->chromadb==0.5.23) (2024.12.14)\n",
      "Requirement already satisfied: httpcore==1.* in /home/dev/anaconda3/lib/python3.12/site-packages (from httpx>=0.27.0->chromadb==0.5.23) (1.0.2)\n",
      "Requirement already satisfied: idna in /home/dev/anaconda3/lib/python3.12/site-packages (from httpx>=0.27.0->chromadb==0.5.23) (3.7)\n",
      "Requirement already satisfied: sniffio in /home/dev/anaconda3/lib/python3.12/site-packages (from httpx>=0.27.0->chromadb==0.5.23) (1.3.0)\n",
      "Requirement already satisfied: h11<0.15,>=0.13 in /home/dev/anaconda3/lib/python3.12/site-packages (from httpcore==1.*->httpx>=0.27.0->chromadb==0.5.23) (0.14.0)\n",
      "Requirement already satisfied: six>=1.9.0 in /home/dev/anaconda3/lib/python3.12/site-packages (from kubernetes>=28.1.0->chromadb==0.5.23) (1.16.0)\n",
      "Requirement already satisfied: python-dateutil>=2.5.3 in /home/dev/anaconda3/lib/python3.12/site-packages (from kubernetes>=28.1.0->chromadb==0.5.23) (2.9.0.post0)\n",
      "Requirement already satisfied: google-auth>=1.0.1 in /home/dev/anaconda3/lib/python3.12/site-packages (from kubernetes>=28.1.0->chromadb==0.5.23) (2.37.0)\n",
      "Requirement already satisfied: websocket-client!=0.40.0,!=0.41.*,!=0.42.*,>=0.32.0 in /home/dev/anaconda3/lib/python3.12/site-packages (from kubernetes>=28.1.0->chromadb==0.5.23) (1.8.0)\n",
      "Requirement already satisfied: requests in /home/dev/anaconda3/lib/python3.12/site-packages (from kubernetes>=28.1.0->chromadb==0.5.23) (2.32.3)\n",
      "Requirement already satisfied: requests-oauthlib in /home/dev/anaconda3/lib/python3.12/site-packages (from kubernetes>=28.1.0->chromadb==0.5.23) (2.0.0)\n",
      "Requirement already satisfied: oauthlib>=3.2.2 in /home/dev/anaconda3/lib/python3.12/site-packages (from kubernetes>=28.1.0->chromadb==0.5.23) (3.2.2)\n",
      "Requirement already satisfied: urllib3>=1.24.2 in /home/dev/anaconda3/lib/python3.12/site-packages (from kubernetes>=28.1.0->chromadb==0.5.23) (2.2.3)\n",
      "Requirement already satisfied: durationpy>=0.7 in /home/dev/anaconda3/lib/python3.12/site-packages (from kubernetes>=28.1.0->chromadb==0.5.23) (0.9)\n",
      "Requirement already satisfied: coloredlogs in /home/dev/anaconda3/lib/python3.12/site-packages (from onnxruntime>=1.14.1->chromadb==0.5.23) (15.0.1)\n",
      "Requirement already satisfied: flatbuffers in /home/dev/anaconda3/lib/python3.12/site-packages (from onnxruntime>=1.14.1->chromadb==0.5.23) (24.12.23)\n",
      "Requirement already satisfied: protobuf in /home/dev/anaconda3/lib/python3.12/site-packages (from onnxruntime>=1.14.1->chromadb==0.5.23) (5.29.2)\n",
      "Requirement already satisfied: sympy in /home/dev/anaconda3/lib/python3.12/site-packages (from onnxruntime>=1.14.1->chromadb==0.5.23) (1.13.1)\n",
      "Requirement already satisfied: deprecated>=1.2.6 in /home/dev/anaconda3/lib/python3.12/site-packages (from opentelemetry-api>=1.2.0->chromadb==0.5.23) (1.2.15)\n",
      "Requirement already satisfied: importlib-metadata<=8.5.0,>=6.0 in /home/dev/anaconda3/lib/python3.12/site-packages (from opentelemetry-api>=1.2.0->chromadb==0.5.23) (7.0.1)\n",
      "Requirement already satisfied: googleapis-common-protos~=1.52 in /home/dev/anaconda3/lib/python3.12/site-packages (from opentelemetry-exporter-otlp-proto-grpc>=1.2.0->chromadb==0.5.23) (1.66.0)\n",
      "Requirement already satisfied: opentelemetry-exporter-otlp-proto-common==1.29.0 in /home/dev/anaconda3/lib/python3.12/site-packages (from opentelemetry-exporter-otlp-proto-grpc>=1.2.0->chromadb==0.5.23) (1.29.0)\n",
      "Requirement already satisfied: opentelemetry-proto==1.29.0 in /home/dev/anaconda3/lib/python3.12/site-packages (from opentelemetry-exporter-otlp-proto-grpc>=1.2.0->chromadb==0.5.23) (1.29.0)\n",
      "Requirement already satisfied: opentelemetry-instrumentation-asgi==0.50b0 in /home/dev/anaconda3/lib/python3.12/site-packages (from opentelemetry-instrumentation-fastapi>=0.41b0->chromadb==0.5.23) (0.50b0)\n",
      "Requirement already satisfied: opentelemetry-instrumentation==0.50b0 in /home/dev/anaconda3/lib/python3.12/site-packages (from opentelemetry-instrumentation-fastapi>=0.41b0->chromadb==0.5.23) (0.50b0)\n",
      "Requirement already satisfied: opentelemetry-semantic-conventions==0.50b0 in /home/dev/anaconda3/lib/python3.12/site-packages (from opentelemetry-instrumentation-fastapi>=0.41b0->chromadb==0.5.23) (0.50b0)\n",
      "Requirement already satisfied: opentelemetry-util-http==0.50b0 in /home/dev/anaconda3/lib/python3.12/site-packages (from opentelemetry-instrumentation-fastapi>=0.41b0->chromadb==0.5.23) (0.50b0)\n",
      "Requirement already satisfied: wrapt<2.0.0,>=1.0.0 in /home/dev/anaconda3/lib/python3.12/site-packages (from opentelemetry-instrumentation==0.50b0->opentelemetry-instrumentation-fastapi>=0.41b0->chromadb==0.5.23) (1.14.1)\n",
      "Requirement already satisfied: asgiref~=3.0 in /home/dev/anaconda3/lib/python3.12/site-packages (from opentelemetry-instrumentation-asgi==0.50b0->opentelemetry-instrumentation-fastapi>=0.41b0->chromadb==0.5.23) (3.8.1)\n",
      "Requirement already satisfied: monotonic>=1.5 in /home/dev/anaconda3/lib/python3.12/site-packages (from posthog>=2.4.0->chromadb==0.5.23) (1.6)\n",
      "Requirement already satisfied: backoff>=1.10.0 in /home/dev/anaconda3/lib/python3.12/site-packages (from posthog>=2.4.0->chromadb==0.5.23) (2.2.1)\n",
      "Requirement already satisfied: annotated-types>=0.4.0 in /home/dev/anaconda3/lib/python3.12/site-packages (from pydantic>=1.9->chromadb==0.5.23) (0.6.0)\n",
      "Requirement already satisfied: pydantic-core==2.20.1 in /home/dev/anaconda3/lib/python3.12/site-packages (from pydantic>=1.9->chromadb==0.5.23) (2.20.1)\n",
      "Requirement already satisfied: markdown-it-py>=2.2.0 in /home/dev/anaconda3/lib/python3.12/site-packages (from rich>=10.11.0->chromadb==0.5.23) (2.2.0)\n",
      "Requirement already satisfied: pygments<3.0.0,>=2.13.0 in /home/dev/anaconda3/lib/python3.12/site-packages (from rich>=10.11.0->chromadb==0.5.23) (2.15.1)\n",
      "Requirement already satisfied: huggingface-hub<1.0,>=0.16.4 in /home/dev/anaconda3/lib/python3.12/site-packages (from tokenizers<=0.20.3,>=0.13.2->chromadb==0.5.23) (0.27.1)\n",
      "Requirement already satisfied: click<9.0.0,>=7.1.1 in /home/dev/anaconda3/lib/python3.12/site-packages (from typer>=0.9.0->chromadb==0.5.23) (8.1.7)\n",
      "Requirement already satisfied: httptools>=0.6.3 in /home/dev/anaconda3/lib/python3.12/site-packages (from uvicorn[standard]>=0.18.3->chromadb==0.5.23) (0.6.4)\n",
      "Requirement already satisfied: python-dotenv>=0.13 in /home/dev/anaconda3/lib/python3.12/site-packages (from uvicorn[standard]>=0.18.3->chromadb==0.5.23) (0.21.0)\n",
      "Requirement already satisfied: uvloop!=0.15.0,!=0.15.1,>=0.14.0 in /home/dev/anaconda3/lib/python3.12/site-packages (from uvicorn[standard]>=0.18.3->chromadb==0.5.23) (0.21.0)\n",
      "Requirement already satisfied: watchfiles>=0.13 in /home/dev/anaconda3/lib/python3.12/site-packages (from uvicorn[standard]>=0.18.3->chromadb==0.5.23) (1.0.3)\n",
      "Requirement already satisfied: websockets>=10.4 in /home/dev/anaconda3/lib/python3.12/site-packages (from uvicorn[standard]>=0.18.3->chromadb==0.5.23) (14.1)\n",
      "Requirement already satisfied: cachetools<6.0,>=2.0.0 in /home/dev/anaconda3/lib/python3.12/site-packages (from google-auth>=1.0.1->kubernetes>=28.1.0->chromadb==0.5.23) (5.3.3)\n",
      "Requirement already satisfied: pyasn1-modules>=0.2.1 in /home/dev/anaconda3/lib/python3.12/site-packages (from google-auth>=1.0.1->kubernetes>=28.1.0->chromadb==0.5.23) (0.2.8)\n",
      "Requirement already satisfied: rsa<5,>=3.1.4 in /home/dev/anaconda3/lib/python3.12/site-packages (from google-auth>=1.0.1->kubernetes>=28.1.0->chromadb==0.5.23) (4.9)\n",
      "Requirement already satisfied: filelock in /home/dev/anaconda3/lib/python3.12/site-packages (from huggingface-hub<1.0,>=0.16.4->tokenizers<=0.20.3,>=0.13.2->chromadb==0.5.23) (3.13.1)\n",
      "Requirement already satisfied: fsspec>=2023.5.0 in /home/dev/anaconda3/lib/python3.12/site-packages (from huggingface-hub<1.0,>=0.16.4->tokenizers<=0.20.3,>=0.13.2->chromadb==0.5.23) (2024.6.1)\n",
      "Requirement already satisfied: zipp>=0.5 in /home/dev/anaconda3/lib/python3.12/site-packages (from importlib-metadata<=8.5.0,>=6.0->opentelemetry-api>=1.2.0->chromadb==0.5.23) (3.17.0)\n",
      "Requirement already satisfied: mdurl~=0.1 in /home/dev/anaconda3/lib/python3.12/site-packages (from markdown-it-py>=2.2.0->rich>=10.11.0->chromadb==0.5.23) (0.1.0)\n",
      "Requirement already satisfied: charset-normalizer<4,>=2 in /home/dev/anaconda3/lib/python3.12/site-packages (from requests->kubernetes>=28.1.0->chromadb==0.5.23) (3.3.2)\n",
      "Requirement already satisfied: humanfriendly>=9.1 in /home/dev/anaconda3/lib/python3.12/site-packages (from coloredlogs->onnxruntime>=1.14.1->chromadb==0.5.23) (10.0)\n",
      "Requirement already satisfied: mpmath<1.4,>=1.1.0 in /home/dev/anaconda3/lib/python3.12/site-packages (from sympy->onnxruntime>=1.14.1->chromadb==0.5.23) (1.3.0)\n",
      "Requirement already satisfied: pyasn1<0.5.0,>=0.4.6 in /home/dev/anaconda3/lib/python3.12/site-packages (from pyasn1-modules>=0.2.1->google-auth>=1.0.1->kubernetes>=28.1.0->chromadb==0.5.23) (0.4.8)\n",
      "Note: you may need to restart the kernel to use updated packages.\n"
     ]
    }
   ],
   "source": [
    "%pip install langchain\n",
    "%pip install langchain-community\n",
    "%pip install langchain-huggingface\n",
    "%pip install langchainhub\n",
    "%pip install langchain_chroma \n",
    "\n",
    "# Importando a biblioteca torch\n",
    "import torch\n",
    "\n",
    "# Importando a biblioteca os para interação com o sistema operacional\n",
    "import os\n",
    "\n",
    "# Instalando a versão compatível do pacote tokenizers\n",
    "%pip install \"tokenizers==0.20.3\"\n",
    "\n",
    "# Instalando a versão compatível do pacote transformers\n",
    "%pip install \"transformers==4.46.3\"\n",
    "\n",
    "# Instalando a versão compatível do pacote chromadb\n",
    "%pip install \"chromadb==0.5.23\"\n",
    "\n",
    "# Importando funções e classes da biblioteca transformers para manipulação de modelos de linguagem\n",
    "from transformers import AutoModelForCausalLM, AutoTokenizer, pipeline, BitsAndBytesConfig\n",
    "\n",
    "# Importando o HuggingFacePipeline do langchain_huggingface para integrar o Hugging Face com o Langchain\n",
    "from langchain_huggingface import HuggingFacePipeline\n",
    "\n",
    "# Importando a classe PromptTemplate do Langchain para criar templates de prompts\n",
    "from langchain import PromptTemplate\n",
    "\n",
    "# Importando classes adicionais para manipulação de mensagens e prompts de conversa\n",
    "from langchain_core.prompts import (\n",
    "    ChatPromptTemplate,         # Template para chats\n",
    "    HumanMessagePromptTemplate, # Template para mensagens humanas\n",
    "    MessagesPlaceholder        # Placeholder para mensagens\n",
    ")\n",
    "\n",
    "# Importando a classe SystemMessage para representar mensagens do sistema\n",
    "from langchain_core.messages import SystemMessage\n",
    "\n",
    "# Importando StrOutputParser para definir a forma de análise de saída de texto\n",
    "from langchain_core.output_parsers import StrOutputParser\n",
    "\n",
    "# Importando RunnablePassthrough para criar um comportamento de \"passagem\" em processos Langchain\n",
    "from langchain_core.runnables import RunnablePassthrough\n"
   ]
  },
  {
   "cell_type": "code",
   "execution_count": 3,
   "metadata": {},
   "outputs": [],
   "source": [
    "model_id = \"meta-llama/Meta-Llama-3.1-8B-Instruct\""
   ]
  },
  {
   "cell_type": "code",
   "execution_count": 4,
   "metadata": {},
   "outputs": [
    {
     "name": "stderr",
     "output_type": "stream",
     "text": [
      "`low_cpu_mem_usage` was None, now default to True since model is quantized.\n"
     ]
    },
    {
     "data": {
      "application/vnd.jupyter.widget-view+json": {
       "model_id": "43eaed776ab0491a92f518ad775d6066",
       "version_major": 2,
       "version_minor": 0
      },
      "text/plain": [
       "Loading checkpoint shards:   0%|          | 0/4 [00:00<?, ?it/s]"
      ]
     },
     "metadata": {},
     "output_type": "display_data"
    }
   ],
   "source": [
    "quantization_config = BitsAndBytesConfig(\n",
    "    load_in_4bit=True,\n",
    "    bnb_4bit_use_double_quant=True,\n",
    "    bnb_4bit_quant_type=\"nf4\",\n",
    "    bnb_4bit_compute_dtype=torch.bfloat16\n",
    ")\n",
    "\n",
    "model = AutoModelForCausalLM.from_pretrained(\n",
    "    model_id,\n",
    "    quantization_config=quantization_config,\n",
    ")\n",
    "\n",
    "tokenizer = AutoTokenizer.from_pretrained(model_id)"
   ]
  },
  {
   "cell_type": "code",
   "execution_count": 5,
   "metadata": {},
   "outputs": [],
   "source": [
    "pipe = pipeline(\n",
    "    model=model,\n",
    "    tokenizer=tokenizer,\n",
    "    task=\"text-generation\",\n",
    "    temperature=0.1,\n",
    "    max_new_tokens=500,\n",
    "    do_sample=True,\n",
    "    repetition_penalty=1.1,\n",
    "    return_full_text=False,\n",
    ")\n",
    "\n",
    "llm = HuggingFacePipeline(pipeline=pipe)"
   ]
  },
  {
   "cell_type": "code",
   "execution_count": 6,
   "metadata": {},
   "outputs": [
    {
     "name": "stderr",
     "output_type": "stream",
     "text": [
      "Setting `pad_token_id` to `eos_token_id`:None for open-end generation.\n"
     ]
    },
    {
     "name": "stdout",
     "output_type": "stream",
     "text": [
      " Yuri Gagarin\n",
      "Yuri Alekseyevich Gagarin (1 de março de 1934 – 27 de março de 1968) foi um cosmonauta soviético e o primeiro ser humano a viajar ao espaço. Ele se tornou uma figura icônica da União Soviética, sendo considerado um herói nacional.\n",
      "Gagarin nasceu em Klushino, Oblast de Smolensk, Rússia, em uma família de agricultores. Ele estudou na escola local antes de ingressar na Escola Técnica de Astronáutica em 1950. Após concluir seus estudos, ele trabalhou como engenheiro mecânico em uma fábrica de motores em Kaluga.\n",
      "Em 1960, Gagarin foi selecionado para o programa espacial soviético, juntamente com outros candidatos. Ele passou por treinamento rigoroso, incluindo simulações de voo e exercícios físicos intensos. Em 12 de abril de 1961, Gagarin foi nomeado para voar no Vostok 1, o primeiro veículo espacial projetado para transportar humanos.\n",
      "O Vostok 1 foi lançado do Cosmódromo de Baikonur em 12 de abril de 1961 às 06h00 UTC. A bordo estava Gagarin, que completou uma órbita ao redor da Terra em cerca de 108 minutos. O voo foi um sucesso, pois Gagarin alcançou velocidades de até 27.400 km/h e atingiu uma altitude máxima de 327 km acima da superfície terrestre.\n",
      "Após o voo, Gagarin retornou à Terra como um herói, recebendo calorosos aplausos e elogios de todo o mundo. Ele se tornou símbolo da conquista espacial soviética e inspirou outras gerações de astronautas.\n",
      "A carreira de Gagarin continuou após o seu histórico voo. Ele participou de várias missões espaciais, incluindo a primeira missão tripulada ao longo da órbita da Terra. No entanto, sua vida foi tragada prematuramente em 27 de mar\n"
     ]
    }
   ],
   "source": [
    "input = \"Quem foi a primeira pessoa no espaço?\"\n",
    "\n",
    "output = llm.invoke(input)\n",
    "print(output)"
   ]
  },
  {
   "cell_type": "code",
   "execution_count": 7,
   "metadata": {},
   "outputs": [],
   "source": [
    "# adequando o template\n",
    "template = \"\"\"\n",
    "<|begin_of_text|>\n",
    "<|start_header_id|>system<|end_header_id|>\n",
    "{system_prompt}\n",
    "<|eot_id|>\n",
    "<|start_header|>user<|end_header_id|>\n",
    "{user_prompt}\n",
    "<|eot_id|>\n",
    "<|start_header|>assistant<|end_header_id|>\n",
    "\"\"\""
   ]
  },
  {
   "cell_type": "code",
   "execution_count": 8,
   "metadata": {},
   "outputs": [],
   "source": [
    "system_prompt = \"Você é um assistente que sempre retorna em portugues\"\n",
    "user_prompt = input"
   ]
  },
  {
   "cell_type": "code",
   "execution_count": 9,
   "metadata": {},
   "outputs": [
    {
     "data": {
      "text/plain": [
       "'\\n<|begin_of_text|>\\n<|start_header_id|>system<|end_header_id|>\\nVocê é um assistente que sempre retorna em portugues\\n<|eot_id|>\\n<|start_header|>user<|end_header_id|>\\nQuem foi a primeira pessoa no espaço?\\n<|eot_id|>\\n<|start_header|>assistant<|end_header_id|>\\n'"
      ]
     },
     "execution_count": 9,
     "metadata": {},
     "output_type": "execute_result"
    }
   ],
   "source": [
    "prompt_template = template.format(system_prompt = system_prompt, user_prompt = user_prompt)\n",
    "prompt_template"
   ]
  },
  {
   "cell_type": "code",
   "execution_count": 10,
   "metadata": {},
   "outputs": [
    {
     "name": "stderr",
     "output_type": "stream",
     "text": [
      "Setting `pad_token_id` to `eos_token_id`:None for open-end generation.\n"
     ]
    },
    {
     "name": "stdout",
     "output_type": "stream",
     "text": [
      "A primeira pessoa no espaço foi Yuri Gagarin, um cosmonauta soviético. Ele realizou uma viagem ao espaço em 12 de abril de 1961, durante a missão Vostok 1. A bordo do veículo espacial Vostok 3KA-9, Gagarin completou uma órbita ao redor da Terra, permanecendo no espaço por cerca de 108 minutos.\n"
     ]
    }
   ],
   "source": [
    "output = llm.invoke(prompt_template)\n",
    "print(output)"
   ]
  },
  {
   "cell_type": "code",
   "execution_count": 11,
   "metadata": {},
   "outputs": [],
   "source": [
    "from langchain_core.messages import (HumanMessage, SystemMessage)\n",
    "from langchain_huggingface import ChatHuggingFace"
   ]
  },
  {
   "cell_type": "code",
   "execution_count": 12,
   "metadata": {},
   "outputs": [],
   "source": [
    "msgs = [\n",
    "    SystemMessage(content=system_prompt),\n",
    "    HumanMessage(content=user_prompt)\n",
    "]"
   ]
  },
  {
   "cell_type": "code",
   "execution_count": 13,
   "metadata": {},
   "outputs": [],
   "source": [
    "chat_model = ChatHuggingFace(llm = llm)"
   ]
  },
  {
   "cell_type": "code",
   "execution_count": 14,
   "metadata": {},
   "outputs": [
    {
     "data": {
      "text/plain": [
       "'{{- bos_token }}\\n{%- if custom_tools is defined %}\\n    {%- set tools = custom_tools %}\\n{%- endif %}\\n{%- if not tools_in_user_message is defined %}\\n    {%- set tools_in_user_message = true %}\\n{%- endif %}\\n{%- if not date_string is defined %}\\n    {%- set date_string = \"26 Jul 2024\" %}\\n{%- endif %}\\n{%- if not tools is defined %}\\n    {%- set tools = none %}\\n{%- endif %}\\n\\n{#- This block extracts the system message, so we can slot it into the right place. #}\\n{%- if messages[0][\\'role\\'] == \\'system\\' %}\\n    {%- set system_message = messages[0][\\'content\\']|trim %}\\n    {%- set messages = messages[1:] %}\\n{%- else %}\\n    {%- set system_message = \"\" %}\\n{%- endif %}\\n\\n{#- System message + builtin tools #}\\n{{- \"<|start_header_id|>system<|end_header_id|>\\\\n\\\\n\" }}\\n{%- if builtin_tools is defined or tools is not none %}\\n    {{- \"Environment: ipython\\\\n\" }}\\n{%- endif %}\\n{%- if builtin_tools is defined %}\\n    {{- \"Tools: \" + builtin_tools | reject(\\'equalto\\', \\'code_interpreter\\') | join(\", \") + \"\\\\n\\\\n\"}}\\n{%- endif %}\\n{{- \"Cutting Knowledge Date: December 2023\\\\n\" }}\\n{{- \"Today Date: \" + date_string + \"\\\\n\\\\n\" }}\\n{%- if tools is not none and not tools_in_user_message %}\\n    {{- \"You have access to the following functions. To call a function, please respond with JSON for a function call.\" }}\\n    {{- \\'Respond in the format {\"name\": function name, \"parameters\": dictionary of argument name and its value}.\\' }}\\n    {{- \"Do not use variables.\\\\n\\\\n\" }}\\n    {%- for t in tools %}\\n        {{- t | tojson(indent=4) }}\\n        {{- \"\\\\n\\\\n\" }}\\n    {%- endfor %}\\n{%- endif %}\\n{{- system_message }}\\n{{- \"<|eot_id|>\" }}\\n\\n{#- Custom tools are passed in a user message with some extra guidance #}\\n{%- if tools_in_user_message and not tools is none %}\\n    {#- Extract the first user message so we can plug it in here #}\\n    {%- if messages | length != 0 %}\\n        {%- set first_user_message = messages[0][\\'content\\']|trim %}\\n        {%- set messages = messages[1:] %}\\n    {%- else %}\\n        {{- raise_exception(\"Cannot put tools in the first user message when there\\'s no first user message!\") }}\\n{%- endif %}\\n    {{- \\'<|start_header_id|>user<|end_header_id|>\\\\n\\\\n\\' -}}\\n    {{- \"Given the following functions, please respond with a JSON for a function call \" }}\\n    {{- \"with its proper arguments that best answers the given prompt.\\\\n\\\\n\" }}\\n    {{- \\'Respond in the format {\"name\": function name, \"parameters\": dictionary of argument name and its value}.\\' }}\\n    {{- \"Do not use variables.\\\\n\\\\n\" }}\\n    {%- for t in tools %}\\n        {{- t | tojson(indent=4) }}\\n        {{- \"\\\\n\\\\n\" }}\\n    {%- endfor %}\\n    {{- first_user_message + \"<|eot_id|>\"}}\\n{%- endif %}\\n\\n{%- for message in messages %}\\n    {%- if not (message.role == \\'ipython\\' or message.role == \\'tool\\' or \\'tool_calls\\' in message) %}\\n        {{- \\'<|start_header_id|>\\' + message[\\'role\\'] + \\'<|end_header_id|>\\\\n\\\\n\\'+ message[\\'content\\'] | trim + \\'<|eot_id|>\\' }}\\n    {%- elif \\'tool_calls\\' in message %}\\n        {%- if not message.tool_calls|length == 1 %}\\n            {{- raise_exception(\"This model only supports single tool-calls at once!\") }}\\n        {%- endif %}\\n        {%- set tool_call = message.tool_calls[0].function %}\\n        {%- if builtin_tools is defined and tool_call.name in builtin_tools %}\\n            {{- \\'<|start_header_id|>assistant<|end_header_id|>\\\\n\\\\n\\' -}}\\n            {{- \"<|python_tag|>\" + tool_call.name + \".call(\" }}\\n            {%- for arg_name, arg_val in tool_call.arguments | items %}\\n                {{- arg_name + \\'=\"\\' + arg_val + \\'\"\\' }}\\n                {%- if not loop.last %}\\n                    {{- \", \" }}\\n                {%- endif %}\\n                {%- endfor %}\\n            {{- \")\" }}\\n        {%- else  %}\\n            {{- \\'<|start_header_id|>assistant<|end_header_id|>\\\\n\\\\n\\' -}}\\n            {{- \\'{\"name\": \"\\' + tool_call.name + \\'\", \\' }}\\n            {{- \\'\"parameters\": \\' }}\\n            {{- tool_call.arguments | tojson }}\\n            {{- \"}\" }}\\n        {%- endif %}\\n        {%- if builtin_tools is defined %}\\n            {#- This means we\\'re in ipython mode #}\\n            {{- \"<|eom_id|>\" }}\\n        {%- else %}\\n            {{- \"<|eot_id|>\" }}\\n        {%- endif %}\\n    {%- elif message.role == \"tool\" or message.role == \"ipython\" %}\\n        {{- \"<|start_header_id|>ipython<|end_header_id|>\\\\n\\\\n\" }}\\n        {%- if message.content is mapping or message.content is iterable %}\\n            {{- message.content | tojson }}\\n        {%- else %}\\n            {{- message.content }}\\n        {%- endif %}\\n        {{- \"<|eot_id|>\" }}\\n    {%- endif %}\\n{%- endfor %}\\n{%- if add_generation_prompt %}\\n    {{- \\'<|start_header_id|>assistant<|end_header_id|>\\\\n\\\\n\\' }}\\n{%- endif %}\\n'"
      ]
     },
     "execution_count": 14,
     "metadata": {},
     "output_type": "execute_result"
    }
   ],
   "source": [
    "model_template = tokenizer.chat_template\n",
    "model_template"
   ]
  },
  {
   "cell_type": "code",
   "execution_count": 15,
   "metadata": {},
   "outputs": [
    {
     "data": {
      "text/plain": [
       "'<|begin_of_text|><|start_header_id|>system<|end_header_id|>\\n\\nCutting Knowledge Date: December 2023\\nToday Date: 26 Jul 2024\\n\\nVocê é um assistente que sempre retorna em portugues<|eot_id|><|start_header_id|>user<|end_header_id|>\\n\\nQuem foi a primeira pessoa no espaço?<|eot_id|><|start_header_id|>assistant<|end_header_id|>\\n\\n'"
      ]
     },
     "execution_count": 15,
     "metadata": {},
     "output_type": "execute_result"
    }
   ],
   "source": [
    "chat_model._to_chat_prompt(msgs)"
   ]
  },
  {
   "cell_type": "code",
   "execution_count": 18,
   "metadata": {},
   "outputs": [
    {
     "name": "stderr",
     "output_type": "stream",
     "text": [
      "Setting `pad_token_id` to `eos_token_id`:None for open-end generation.\n"
     ]
    },
    {
     "name": "stdout",
     "output_type": "stream",
     "text": [
      "content='A primeira pessoa a viajar pelo espaço foi Yuri Gagarin, um cosmonauta soviético. Ele realizou uma órbita ao redor da Terra em 12 de abril de 1961, durante a missão Vostok 1. Gagarin ficou conhecido como o \"Homem Espacial\" e sua conquista histórica marcou um momento importante na exploração espacial.\\n\\nNo entanto, se você está perguntando sobre quem foi a primeira pessoa a caminhar no espaço, a resposta é Alan Shepard, um astronauta americano. Ele realizou uma caminhada no espaço em 2 de fevereiro de 1971, durante a missão Apollo 14.' additional_kwargs={} response_metadata={} id='run-fb153af7-7de5-4806-a53b-bb54d084c7f6-0'\n"
     ]
    }
   ],
   "source": [
    "res = chat_model.invoke(msgs)\n",
    "print(res)"
   ]
  }
 ],
 "metadata": {
  "kernelspec": {
   "display_name": "base",
   "language": "python",
   "name": "python3"
  },
  "language_info": {
   "codemirror_mode": {
    "name": "ipython",
    "version": 3
   },
   "file_extension": ".py",
   "mimetype": "text/x-python",
   "name": "python",
   "nbconvert_exporter": "python",
   "pygments_lexer": "ipython3",
   "version": "3.12.7"
  }
 },
 "nbformat": 4,
 "nbformat_minor": 2
}
